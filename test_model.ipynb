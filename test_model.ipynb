{
 "cells": [
  {
   "cell_type": "code",
   "execution_count": 1,
   "metadata": {},
   "outputs": [],
   "source": [
    "%load_ext autoreload\n",
    "%autoreload 2\n",
    "\n",
    "from tqdm import tqdm\n",
    "\n",
    "from PIL import Image\n",
    "\n",
    "import torch\n",
    "from torch import nn\n",
    "import torch.nn.functional as F\n",
    "\n",
    "import pandas as pd\n",
    "import numpy as np\n",
    "import matplotlib.pyplot as plt\n",
    "\n",
    "from datasets import *\n",
    "from models import *\n",
    "\n",
    "# torch._dynamo.config.suppress_errors = True"
   ]
  },
  {
   "attachments": {},
   "cell_type": "markdown",
   "metadata": {},
   "source": [
    "Load dataset:"
   ]
  },
  {
   "cell_type": "code",
   "execution_count": 2,
   "metadata": {},
   "outputs": [],
   "source": [
    "data_size = 640_000\n",
    "data_gen = single_random_ring(N=32)\n",
    "X, y = data_gen.generate_dataset(data_size=data_size, noise=True, seed=42, device='cpu', test_return=True)"
   ]
  },
  {
   "cell_type": "code",
   "execution_count": 3,
   "metadata": {},
   "outputs": [
    {
     "name": "stdout",
     "output_type": "stream",
     "text": [
      "tensor([[0.4000, 0.7333, 0.5152, 0.4684, 0.8805, 0.8485]])\n"
     ]
    },
    {
     "data": {
      "image/png": "[encoded data removed]",
      "text/plain": [
       "<PIL.Image.Image image mode=L size=32x32>"
      ]
     },
     "execution_count": 3,
     "metadata": {},
     "output_type": "execute_result"
    }
   ],
   "source": [
    "i = np.random.choice(data_size)\n",
    "X_ = torch.Tensor(X[i].reshape(1, -1))\n",
    "print(X_)\n",
    "Image.fromarray((y[i] * 255).astype(np.uint8))"
   ]
  },
  {
   "attachments": {},
   "cell_type": "markdown",
   "metadata": {},
   "source": [
    "Test generator:"
   ]
  },
  {
   "cell_type": "code",
   "execution_count": 4,
   "metadata": {},
   "outputs": [
    {
     "ename": "NameError",
     "evalue": "name 'bbuffer_DGBaNR_base' is not defined",
     "output_type": "error",
     "traceback": [
      "\u001b[0;31m---------------------------------------------------------------------------\u001b[0m",
      "\u001b[0;31mNameError\u001b[0m                                 Traceback (most recent call last)",
      "Cell \u001b[0;32mIn[4], line 2\u001b[0m\n\u001b[1;32m      1\u001b[0m \u001b[39m# load generator\u001b[39;00m\n\u001b[0;32m----> 2\u001b[0m model_deter \u001b[39m=\u001b[39m bbuffer_DGBaNR_base(data_gen\u001b[39m.\u001b[39mn_features, \u001b[39m32\u001b[39m, \u001b[39m'\u001b[39m\u001b[39mtanh\u001b[39m\u001b[39m'\u001b[39m)\n\u001b[1;32m      4\u001b[0m pre_trained_weights \u001b[39m=\u001b[39m torch\u001b[39m.\u001b[39mload(\u001b[39m'\u001b[39m\u001b[39m../save_data/single_random_ring/Adam_mse_loss/bbuffer_DGBaNR_base_tanh/bbuffer_DGBaNR_base_tanh_0.pt\u001b[39m\u001b[39m'\u001b[39m, map_location\u001b[39m=\u001b[39mtorch\u001b[39m.\u001b[39mdevice(\u001b[39m'\u001b[39m\u001b[39mcpu\u001b[39m\u001b[39m'\u001b[39m))\n\u001b[1;32m      5\u001b[0m pre_trained_weights\u001b[39m.\u001b[39mkeys()\n",
      "\u001b[0;31mNameError\u001b[0m: name 'bbuffer_DGBaNR_base' is not defined"
     ]
    }
   ],
   "source": [
    "# load generator\n",
    "model_deter = bbuffer_DGBaNR_base(data_gen.n_features, 32, 'tanh')\n",
    "\n",
    "pre_trained_weights = torch.load('../save_data/single_random_ring/Adam_mse_loss/bbuffer_DGBaNR_base_tanh/bbuffer_DGBaNR_base_tanh_0.pt', map_location=torch.device('cpu'))\n",
    "pre_trained_weights.keys()"
   ]
  },
  {
   "cell_type": "code",
   "execution_count": null,
   "metadata": {},
   "outputs": [],
   "source": [
    "dict_dict_keys = {\n",
    "    'linear_layers.0.weight':'linear1.mu_weight',\n",
    "    'linear_layers.0.bias':'linear1.mu_bias',\n",
    "    'linear_layers.2.weight':'linear2.mu_weight',\n",
    "    'linear_layers.2.bias':'linear2.mu_bias',\n",
    "    'linear_layers.4.weight':'linear3.mu_weight',\n",
    "    'linear_layers.4.bias':'linear3.mu_bias',\n",
    "    'conv_layers.0.weight':'conv1.mu_kernel',\n",
    "    'conv_layers.0.bias':'conv1.mu_bias',\n",
    "    'conv_layers.1.weight':'batch_norm1.weight',\n",
    "    'conv_layers.1.bias':'batch_norm1.bias',\n",
    "    'conv_layers.1.running_mean':'batch_norm1.running_mean',\n",
    "    'conv_layers.1.running_var':'batch_norm1.running_var',\n",
    "    'conv_layers.1.num_batches_tracked':'batch_norm1.num_batches_tracked',\n",
    "    'conv_layers.3.weight':'conv2.mu_kernel',\n",
    "    'conv_layers.3.bias':'conv2.mu_bias',\n",
    "    'conv_layers.4.weight':'batch_norm2.weight',\n",
    "    'conv_layers.4.bias':'batch_norm2.bias',\n",
    "    'conv_layers.4.running_mean':'batch_norm2.running_mean',\n",
    "    'conv_layers.4.running_var':'batch_norm2.running_var',\n",
    "    'conv_layers.4.num_batches_tracked':'batch_norm2.num_batches_tracked',\n",
    "    'conv_layers.6.weight':'conv3.mu_kernel',\n",
    "    'conv_layers.6.bias':'conv3.mu_bias'\n",
    "}"
   ]
  },
  {
   "cell_type": "code",
   "execution_count": 5,
   "metadata": {},
   "outputs": [
    {
     "data": {
      "text/plain": [
       "odict_keys(['linear1.mu_weight', 'linear1.rho_weight', 'linear1.mu_bias', 'linear1.rho_bias', 'linear2.mu_weight', 'linear2.rho_weight', 'linear2.mu_bias', 'linear2.rho_bias', 'linear3.mu_weight', 'linear3.rho_weight', 'linear3.mu_bias', 'linear3.rho_bias', 'conv1.mu_kernel', 'conv1.rho_kernel', 'conv1.mu_bias', 'conv1.rho_bias', 'batch_norm1.weight', 'batch_norm1.bias', 'batch_norm1.running_mean', 'batch_norm1.running_var', 'batch_norm1.num_batches_tracked', 'conv2.mu_kernel', 'conv2.rho_kernel', 'conv2.mu_bias', 'conv2.rho_bias', 'batch_norm2.weight', 'batch_norm2.bias', 'batch_norm2.running_mean', 'batch_norm2.running_var', 'batch_norm2.num_batches_tracked', 'conv3.mu_kernel', 'conv3.rho_kernel', 'conv3.mu_bias', 'conv3.rho_bias'])"
      ]
     },
     "execution_count": 5,
     "metadata": {},
     "output_type": "execute_result"
    }
   ],
   "source": [
    "# load generator\n",
    "model_bayes = vessel_DGBaNR(data_gen.n_features, 32, 'tanh')\n",
    "\n",
    "model_bayes.state_dict().keys()"
   ]
  },
  {
   "cell_type": "code",
   "execution_count": 4,
   "metadata": {},
   "outputs": [
    {
     "name": "stdout",
     "output_type": "stream",
     "text": [
      "DGBaNR_2(\n",
      "  (linear_1): LinearReparameterization()\n",
      "  (linear_2): LinearReparameterization()\n",
      "  (conv_1): ConvTranspose2dReparameterization()\n",
      "  (batch_norm_1): BatchNorm2d(64, eps=1e-05, momentum=0.1, affine=True, track_running_stats=True)\n",
      "  (conv_2): ConvTranspose2dReparameterization()\n",
      "  (batch_norm_2): BatchNorm2d(16, eps=1e-05, momentum=0.1, affine=True, track_running_stats=True)\n",
      "  (conv_3): ConvTranspose2dReparameterization()\n",
      "  (batch_norm_3): BatchNorm2d(4, eps=1e-05, momentum=0.1, affine=True, track_running_stats=True)\n",
      "  (conv_4): ConvTranspose2dReparameterization()\n",
      ")\n",
      "Number of parameters: 44722\n"
     ]
    }
   ],
   "source": [
    "# load generator\n",
    "generator = DGBaNR_2(data_gen.n_features, 32, 'tanh')\n",
    "# generator = torch.compile(generator)\n",
    "\n",
    "pre_trained_weights = torch.load(\n",
    "    '../save_data/single_random_ring/Adam_LogL1Loss_5/DGBaNR_2_tanh/DGBaNR_2_tanh_25.pt',\n",
    "    map_location=torch.device('cpu')\n",
    ")\n",
    "generator.load_state_dict(pre_trained_weights)\n",
    "\n",
    "print(generator.eval())\n",
    "print('Number of parameters:', sum(p.numel() for p in generator.parameters()))"
   ]
  },
  {
   "cell_type": "code",
   "execution_count": 14,
   "metadata": {},
   "outputs": [
    {
     "name": "stdout",
     "output_type": "stream",
     "text": [
      "0.06107150349014115\n"
     ]
    },
    {
     "data": {
      "image/png": "[encoded data removed]",
      "text/plain": [
       "<PIL.Image.Image image mode=L size=32x32>"
      ]
     },
     "execution_count": 14,
     "metadata": {},
     "output_type": "execute_result"
    }
   ],
   "source": [
    "y_pred = generator(X_.clone())[0].detach().numpy().squeeze()\n",
    "print(((y[i] - y_pred)**2).mean())\n",
    "Image.fromarray((abs(y_pred) * 255).astype(np.uint8()))"
   ]
  },
  {
   "cell_type": "code",
   "execution_count": 20,
   "metadata": {},
   "outputs": [],
   "source": [
    "# setting the base feature\n",
    "n_samples = 10\n",
    "\n",
    "# getting the predictions for this feature\n",
    "pred_rings = np.zeros((n_samples, 32, 32))\n",
    "with torch.no_grad():\n",
    "    for j in range(n_samples):\n",
    "        pred_rings[j] += generator(X_)[0].detach().numpy().squeeze()\n",
    "pred_ring = pred_rings.sum(axis=0)\n",
    "\n",
    "# summing the predictions\n",
    "pred_prob = pred_ring * 255 / pred_ring.max()\n",
    "true_prob = data_gen.gaussian_from_features(*data_gen.scaler.inverse_transform(X_)[0].tolist()) * 255"
   ]
  },
  {
   "cell_type": "code",
   "execution_count": 21,
   "metadata": {},
   "outputs": [
    {
     "data": {
      "image/png": "[encoded data removed]",
      "text/plain": [
       "<PIL.Image.Image image mode=L size=32x32>"
      ]
     },
     "execution_count": 21,
     "metadata": {},
     "output_type": "execute_result"
    }
   ],
   "source": [
    "# predicted gaussian ring\n",
    "Image.fromarray(abs(pred_prob).astype(np.uint8))"
   ]
  },
  {
   "cell_type": "code",
   "execution_count": 24,
   "metadata": {},
   "outputs": [
    {
     "data": {
      "image/png": "[encoded data removed]",
      "text/plain": [
       "<PIL.Image.Image image mode=L size=32x32>"
      ]
     },
     "execution_count": 24,
     "metadata": {},
     "output_type": "execute_result"
    }
   ],
   "source": [
    "# true gaussian ring\n",
    "Image.fromarray(true_prob.astype(np.uint8))"
   ]
  },
  {
   "cell_type": "code",
   "execution_count": 25,
   "metadata": {},
   "outputs": [
    {
     "data": {
      "image/png": "[encoded data removed]",
      "text/plain": [
       "<PIL.Image.Image image mode=L size=32x32>"
      ]
     },
     "execution_count": 25,
     "metadata": {},
     "output_type": "execute_result"
    }
   ],
   "source": [
    "# difference between the rings\n",
    "Image.fromarray(np.abs(true_prob - pred_prob).astype(np.uint8))"
   ]
  },
  {
   "cell_type": "code",
   "execution_count": 26,
   "metadata": {},
   "outputs": [
    {
     "data": {
      "text/plain": [
       "0.06588017008165999"
      ]
     },
     "execution_count": 26,
     "metadata": {},
     "output_type": "execute_result"
    }
   ],
   "source": [
    "# MSE error\n",
    "((pred_prob / pred_prob.max() - true_prob / true_prob.max())**2).mean()"
   ]
  },
  {
   "cell_type": "code",
   "execution_count": 52,
   "metadata": {},
   "outputs": [
    {
     "data": {
      "image/png": "[encoded data removed]",
      "text/plain": [
       "<Figure size 640x480 with 1 Axes>"
      ]
     },
     "metadata": {},
     "output_type": "display_data"
    }
   ],
   "source": [
    "# getting the distribution for one pmt\n",
    "pmt = (16, 17)\n",
    "pred = pd.Series(pred_rings[:, pmt[0], pmt[1]])\n",
    "hist = pd.Series(1, index=pd.cut(pred, np.arange(0, 1.01, 0.01))).sort_index().groupby(level=0).sum()\n",
    "pred_noise = hist / (hist.sum() * 0.01)\n",
    "\n",
    "plt.plot(np.arange(0, 1, 0.01), pred_noise)\n",
    "\n",
    "val = np.arange(0, 2, 0.01) * true_prob[pmt] / (2 * 255)\n",
    "true_pmt_distr = np.exp(-(val - true_prob[pmt] / (2 * 255))**2 / 0.3**2)\n",
    "true_pmt_distr /= true_pmt_distr.sum() * 0.01 * true_prob[pmt] / (2 * 255)\n",
    "plt.plot(val, true_pmt_distr)\n",
    "plt.show()"
   ]
  },
  {
   "cell_type": "code",
   "execution_count": null,
   "metadata": {},
   "outputs": [],
   "source": []
  }
 ],
 "metadata": {
  "kernelspec": {
   "display_name": "ImageGeneration",
   "language": "python",
   "name": "python3"
  },
  "language_info": {
   "codemirror_mode": {
    "name": "ipython",
    "version": 3
   },
   "file_extension": ".py",
   "mimetype": "text/x-python",
   "name": "python",
   "nbconvert_exporter": "python",
   "pygments_lexer": "ipython3",
   "version": "3.10.11"
  },
  "orig_nbformat": 4
 },
 "nbformat": 4,
 "nbformat_minor": 2
}
