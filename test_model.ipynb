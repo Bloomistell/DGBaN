{
 "cells": [
  {
   "cell_type": "code",
   "execution_count": 1,
   "metadata": {},
   "outputs": [],
   "source": [
    "%load_ext autoreload\n",
    "%autoreload 2\n",
    "\n",
    "from tqdm import tqdm\n",
    "\n",
    "from PIL import Image\n",
    "\n",
    "import torch\n",
    "from torch import nn\n",
    "import torch.nn.functional as F\n",
    "\n",
    "import pandas as pd\n",
    "import numpy as np\n",
    "import matplotlib.pyplot as plt\n",
    "\n",
    "from datasets import *\n",
    "from models import *\n",
    "from utils import *\n",
    "\n",
    "# torch._dynamo.config.suppress_errors = True"
   ]
  },
  {
   "attachments": {},
   "cell_type": "markdown",
   "metadata": {},
   "source": [
    "Load dataset:"
   ]
  },
  {
   "cell_type": "code",
   "execution_count": 2,
   "metadata": {},
   "outputs": [],
   "source": [
    "data_size = 640_000\n",
    "data_gen = single_random_ring(N=32)\n",
    "X, y = data_gen.generate_dataset(data_size=data_size, noise=True, sigma=0.3, features_degree=2, seed=42, device='cpu', test_return=False)"
   ]
  },
  {
   "cell_type": "code",
   "execution_count": 3,
   "metadata": {},
   "outputs": [
    {
     "data": {
      "text/plain": [
       "array({'mse_loss': {'mean': 0.0067056868433325876, 'std': 0.0019505400420071972}, 'l1_loss': {'mean': 0.025108530981164348, 'std': 0.006571911107567121}},\n",
       "      dtype=object)"
      ]
     },
     "execution_count": 3,
     "metadata": {},
     "output_type": "execute_result"
    }
   ],
   "source": [
    "data_gen.noise_delta"
   ]
  },
  {
   "cell_type": "code",
   "execution_count": 4,
   "metadata": {},
   "outputs": [
    {
     "name": "stdout",
     "output_type": "stream",
     "text": [
      "[[15.          9.          6.15        1.09        5.81194641  0.325     ]\n",
      " [ 9.         10.          6.39        0.9         2.67035376  0.24      ]\n",
      " [11.         23.          6.69        1.18        5.3014376   0.445     ]\n",
      " ...\n",
      " [10.          9.          8.58        1.32        3.80918109  0.27      ]\n",
      " [11.         20.          6.09        0.88        3.29867229  0.285     ]\n",
      " [11.         21.          7.71        1.14        5.7726765   0.12      ]]\n",
      "[[0.         0.46666667 0.06666667 ... 0.86642142 0.61114288 0.43107846]\n",
      " [0.         0.06666667 0.13333333 ... 0.18290416 0.20735658 0.23507805]\n",
      " [0.         0.2        1.         ... 0.72089712 0.76329331 0.80818284]\n",
      " ...\n",
      " [0.         0.13333333 0.06666667 ... 0.37217673 0.33276158 0.29752066]\n",
      " [0.         0.2        0.8        ... 0.27910288 0.30417381 0.33149679]\n",
      " [0.         0.2        0.86666667 ... 0.85475258 0.22412807 0.05876951]]\n"
     ]
    },
    {
     "data": {
      "image/png": "[encoded data removed]",
      "text/plain": [
       "<PIL.Image.Image image mode=L size=32x32>"
      ]
     },
     "execution_count": 4,
     "metadata": {},
     "output_type": "execute_result"
    }
   ],
   "source": [
    "features, transformed_features, imgs = data_gen.random_sample(256)\n",
    "print(features)\n",
    "print(transformed_features)\n",
    "Image.fromarray((imgs[0] * 255 / imgs[0].max()).astype(np.uint8))"
   ]
  },
  {
   "attachments": {},
   "cell_type": "markdown",
   "metadata": {},
   "source": [
    "Test generator:"
   ]
  },
  {
   "cell_type": "code",
   "execution_count": 5,
   "metadata": {},
   "outputs": [
    {
     "name": "stdout",
     "output_type": "stream",
     "text": [
      "DGBaNConv17(\n",
      "  (linear_layers): NLinearNormAct(\n",
      "    (linear_act): ModuleList(\n",
      "      (0): LinearReparameterization()\n",
      "      (1): ReLU()\n",
      "      (2): LinearReparameterization()\n",
      "      (3): ReLU()\n",
      "      (4): LinearReparameterization()\n",
      "      (5): ReLU()\n",
      "      (6): LinearReparameterization()\n",
      "      (7): ReLU()\n",
      "      (8): LinearReparameterization()\n",
      "      (9): ReLU()\n",
      "    )\n",
      "  )\n",
      "  (conv_layers): BayesSequential(\n",
      "    (bayes_modules): ModuleList(\n",
      "      (0): BottleNeck(\n",
      "        (block): ResidualAdd(\n",
      "          (block): BayesSequential(\n",
      "            (bayes_modules): ModuleList(\n",
      "              (0-1): 2 x ConvNormAct(\n",
      "                (conv): ConvTranspose2dReparameterization()\n",
      "                (norm_act): Sequential(\n",
      "                  (0): BatchNorm2d(64, eps=1e-05, momentum=0.1, affine=True, track_running_stats=True)\n",
      "                  (1): ReLU()\n",
      "                )\n",
      "              )\n",
      "              (2): ConvNormAct(\n",
      "                (conv): ConvTranspose2dReparameterization()\n",
      "                (norm_act): Sequential(\n",
      "                  (0): BatchNorm2d(256, eps=1e-05, momentum=0.1, affine=True, track_running_stats=True)\n",
      "                  (1): Identity()\n",
      "                )\n",
      "              )\n",
      "            )\n",
      "          )\n",
      "        )\n",
      "      )\n",
      "      (1): Conv2x3x3NormAct(\n",
      "        (block): ResidualAdd(\n",
      "          (block): BayesSequential(\n",
      "            (bayes_modules): ModuleList(\n",
      "              (0): ConvNormAct(\n",
      "                (conv): ConvTranspose2dReparameterization()\n",
      "                (norm_act): Sequential(\n",
      "                  (0): BatchNorm2d(256, eps=1e-05, momentum=0.1, affine=True, track_running_stats=True)\n",
      "                  (1): ReLU()\n",
      "                )\n",
      "              )\n",
      "              (1): ConvNormAct(\n",
      "                (conv): ConvTranspose2dReparameterization()\n",
      "                (norm_act): Sequential(\n",
      "                  (0): BatchNorm2d(128, eps=1e-05, momentum=0.1, affine=True, track_running_stats=True)\n",
      "                  (1): Identity()\n",
      "                )\n",
      "              )\n",
      "            )\n",
      "          )\n",
      "          (shortcut): ConvNormAct(\n",
      "            (conv): ConvTranspose2dReparameterization()\n",
      "            (norm_act): Sequential(\n",
      "              (0): BatchNorm2d(128, eps=1e-05, momentum=0.1, affine=True, track_running_stats=True)\n",
      "              (1): ReLU()\n",
      "            )\n",
      "          )\n",
      "        )\n",
      "      )\n",
      "      (2): ResidualAdd(\n",
      "        (block): BayesSequential(\n",
      "          (bayes_modules): ModuleList(\n",
      "            (0): ScaleUp(\n",
      "              (conv_t): ConvTranspose2dReparameterization()\n",
      "            )\n",
      "            (1): ConvNormAct(\n",
      "              (conv): ConvTranspose2dReparameterization()\n",
      "              (norm_act): Sequential(\n",
      "                (0): BatchNorm2d(128, eps=1e-05, momentum=0.1, affine=True, track_running_stats=True)\n",
      "                (1): ReLU()\n",
      "              )\n",
      "            )\n",
      "          )\n",
      "        )\n",
      "        (shortcut): ConvNormAct(\n",
      "          (conv): ConvTranspose2dReparameterization()\n",
      "          (norm_act): Sequential(\n",
      "            (0): BatchNorm2d(128, eps=1e-05, momentum=0.1, affine=True, track_running_stats=True)\n",
      "            (1): ReLU()\n",
      "          )\n",
      "        )\n",
      "      )\n",
      "      (3): Conv2x3x3NormAct(\n",
      "        (block): ResidualAdd(\n",
      "          (block): BayesSequential(\n",
      "            (bayes_modules): ModuleList(\n",
      "              (0): ConvNormAct(\n",
      "                (conv): ConvTranspose2dReparameterization()\n",
      "                (norm_act): Sequential(\n",
      "                  (0): BatchNorm2d(128, eps=1e-05, momentum=0.1, affine=True, track_running_stats=True)\n",
      "                  (1): ReLU()\n",
      "                )\n",
      "              )\n",
      "              (1): ConvNormAct(\n",
      "                (conv): ConvTranspose2dReparameterization()\n",
      "                (norm_act): Sequential(\n",
      "                  (0): BatchNorm2d(64, eps=1e-05, momentum=0.1, affine=True, track_running_stats=True)\n",
      "                  (1): Identity()\n",
      "                )\n",
      "              )\n",
      "            )\n",
      "          )\n",
      "          (shortcut): ConvNormAct(\n",
      "            (conv): ConvTranspose2dReparameterization()\n",
      "            (norm_act): Sequential(\n",
      "              (0): BatchNorm2d(64, eps=1e-05, momentum=0.1, affine=True, track_running_stats=True)\n",
      "              (1): ReLU()\n",
      "            )\n",
      "          )\n",
      "        )\n",
      "      )\n",
      "      (4): ResidualAdd(\n",
      "        (block): BayesSequential(\n",
      "          (bayes_modules): ModuleList(\n",
      "            (0): ScaleUp(\n",
      "              (conv_t): ConvTranspose2dReparameterization()\n",
      "            )\n",
      "            (1): ConvNormAct(\n",
      "              (conv): ConvTranspose2dReparameterization()\n",
      "              (norm_act): Sequential(\n",
      "                (0): BatchNorm2d(64, eps=1e-05, momentum=0.1, affine=True, track_running_stats=True)\n",
      "                (1): ReLU()\n",
      "              )\n",
      "            )\n",
      "          )\n",
      "        )\n",
      "        (shortcut): ConvNormAct(\n",
      "          (conv): ConvTranspose2dReparameterization()\n",
      "          (norm_act): Sequential(\n",
      "            (0): BatchNorm2d(64, eps=1e-05, momentum=0.1, affine=True, track_running_stats=True)\n",
      "            (1): ReLU()\n",
      "          )\n",
      "        )\n",
      "      )\n",
      "      (5): Conv2x3x3NormAct(\n",
      "        (block): ResidualAdd(\n",
      "          (block): BayesSequential(\n",
      "            (bayes_modules): ModuleList(\n",
      "              (0): ConvNormAct(\n",
      "                (conv): ConvTranspose2dReparameterization()\n",
      "                (norm_act): Sequential(\n",
      "                  (0): BatchNorm2d(64, eps=1e-05, momentum=0.1, affine=True, track_running_stats=True)\n",
      "                  (1): ReLU()\n",
      "                )\n",
      "              )\n",
      "              (1): ConvNormAct(\n",
      "                (conv): ConvTranspose2dReparameterization()\n",
      "                (norm_act): Sequential(\n",
      "                  (0): BatchNorm2d(32, eps=1e-05, momentum=0.1, affine=True, track_running_stats=True)\n",
      "                  (1): Identity()\n",
      "                )\n",
      "              )\n",
      "            )\n",
      "          )\n",
      "          (shortcut): ConvNormAct(\n",
      "            (conv): ConvTranspose2dReparameterization()\n",
      "            (norm_act): Sequential(\n",
      "              (0): BatchNorm2d(32, eps=1e-05, momentum=0.1, affine=True, track_running_stats=True)\n",
      "              (1): ReLU()\n",
      "            )\n",
      "          )\n",
      "        )\n",
      "      )\n",
      "      (6): ResidualAdd(\n",
      "        (block): BayesSequential(\n",
      "          (bayes_modules): ModuleList(\n",
      "            (0): ScaleUp(\n",
      "              (conv_t): ConvTranspose2dReparameterization()\n",
      "            )\n",
      "            (1): ConvNormAct(\n",
      "              (conv): ConvTranspose2dReparameterization()\n",
      "              (norm_act): Sequential(\n",
      "                (0): BatchNorm2d(32, eps=1e-05, momentum=0.1, affine=True, track_running_stats=True)\n",
      "                (1): ReLU()\n",
      "              )\n",
      "            )\n",
      "          )\n",
      "        )\n",
      "        (shortcut): ConvNormAct(\n",
      "          (conv): ConvTranspose2dReparameterization()\n",
      "          (norm_act): Sequential(\n",
      "            (0): BatchNorm2d(32, eps=1e-05, momentum=0.1, affine=True, track_running_stats=True)\n",
      "            (1): ReLU()\n",
      "          )\n",
      "        )\n",
      "      )\n",
      "      (7): Conv2x3x3NormAct(\n",
      "        (block): ResidualAdd(\n",
      "          (block): BayesSequential(\n",
      "            (bayes_modules): ModuleList(\n",
      "              (0): ConvNormAct(\n",
      "                (conv): ConvTranspose2dReparameterization()\n",
      "                (norm_act): Sequential(\n",
      "                  (0): BatchNorm2d(32, eps=1e-05, momentum=0.1, affine=True, track_running_stats=True)\n",
      "                  (1): ReLU()\n",
      "                )\n",
      "              )\n",
      "              (1): ConvNormAct(\n",
      "                (conv): ConvTranspose2dReparameterization()\n",
      "                (norm_act): Sequential(\n",
      "                  (0): BatchNorm2d(16, eps=1e-05, momentum=0.1, affine=True, track_running_stats=True)\n",
      "                  (1): Identity()\n",
      "                )\n",
      "              )\n",
      "            )\n",
      "          )\n",
      "          (shortcut): ConvNormAct(\n",
      "            (conv): ConvTranspose2dReparameterization()\n",
      "            (norm_act): Sequential(\n",
      "              (0): BatchNorm2d(16, eps=1e-05, momentum=0.1, affine=True, track_running_stats=True)\n",
      "              (1): ReLU()\n",
      "            )\n",
      "          )\n",
      "        )\n",
      "      )\n",
      "      (8): LastConv(\n",
      "        (conv_t): ConvTranspose2dReparameterization()\n",
      "      )\n",
      "    )\n",
      "  )\n",
      ")\n",
      "Number of parameters: 4,357,505\n"
     ]
    }
   ],
   "source": [
    "# load generator\n",
    "generator = DGBaNConv17()\n",
    "# generator = torch.compile(generator)\n",
    "\n",
    "pre_trained_weights = torch.load(\n",
    "    '../save_data/single_random_ring/Adam_mse_loss_0/DGBaNConv17_no_activation_function/DGBaNConv17_no_activation_function_6.pt',\n",
    "    map_location=torch.device('cpu')\n",
    ")\n",
    "generator.load_state_dict(pre_trained_weights)\n",
    "\n",
    "print(generator.eval())\n",
    "print(f'Number of parameters: {count_params(generator):,}')"
   ]
  },
  {
   "cell_type": "code",
   "execution_count": 6,
   "metadata": {},
   "outputs": [
    {
     "name": "stdout",
     "output_type": "stream",
     "text": [
      "0.0163657338583394\n",
      "0.04584448765021619\n",
      "0.0348517962344742\n"
     ]
    }
   ],
   "source": [
    "mse_loss = []\n",
    "l1_loss = []\n",
    "AbsMeanDelta = []\n",
    "for i in range(1):\n",
    "    y_pred = generator(torch.Tensor(transformed_features[:1]))[0].detach().numpy().squeeze()\n",
    "    mse_loss.append(((y_pred - imgs[0])**2).mean())\n",
    "    l1_loss.append(abs(y_pred - imgs[0]).mean())\n",
    "    AbsMeanDelta.append(abs((y_pred - imgs[0]).mean()))\n",
    "\n",
    "print(np.mean(mse_loss))\n",
    "print(np.mean(l1_loss))\n",
    "print(np.mean(AbsMeanDelta))"
   ]
  },
  {
   "cell_type": "code",
   "execution_count": 7,
   "metadata": {},
   "outputs": [],
   "source": [
    "# setting the base feature\n",
    "n_samples = 100\n",
    "\n",
    "# getting the predictions for this feature\n",
    "pred_rings = np.zeros((n_samples, 32, 32))\n",
    "with torch.no_grad():\n",
    "    for j in range(n_samples):\n",
    "        pred_rings[j] += generator(torch.Tensor(transformed_features[:1]))[0].detach().numpy().squeeze()\n",
    "pred_ring = pred_rings.mean(axis=0)\n",
    "\n",
    "# summing the predictions\n",
    "pred_prob = pred_ring * 255\n",
    "true_prob = data_gen.ring_from_features(*features[0]) * 255 / 2"
   ]
  },
  {
   "cell_type": "code",
   "execution_count": 8,
   "metadata": {},
   "outputs": [
    {
     "data": {
      "image/png": "[encoded data removed]",
      "text/plain": [
       "<PIL.Image.Image image mode=L size=32x32>"
      ]
     },
     "execution_count": 8,
     "metadata": {},
     "output_type": "execute_result"
    }
   ],
   "source": [
    "# predicted gaussian ring\n",
    "Image.fromarray(abs(pred_prob).astype(np.uint8))"
   ]
  },
  {
   "cell_type": "code",
   "execution_count": 9,
   "metadata": {},
   "outputs": [
    {
     "data": {
      "image/png": "[encoded data removed]",
      "text/plain": [
       "<PIL.Image.Image image mode=L size=32x32>"
      ]
     },
     "execution_count": 9,
     "metadata": {},
     "output_type": "execute_result"
    }
   ],
   "source": [
    "# true gaussian ring\n",
    "Image.fromarray(true_prob.astype(np.uint8))"
   ]
  },
  {
   "cell_type": "code",
   "execution_count": 10,
   "metadata": {},
   "outputs": [
    {
     "data": {
      "image/png": "[encoded data removed]",
      "text/plain": [
       "<PIL.Image.Image image mode=L size=32x32>"
      ]
     },
     "execution_count": 10,
     "metadata": {},
     "output_type": "execute_result"
    }
   ],
   "source": [
    "# difference between the rings\n",
    "Image.fromarray(np.abs(true_prob - pred_prob).astype(np.uint8))"
   ]
  },
  {
   "cell_type": "code",
   "execution_count": 11,
   "metadata": {},
   "outputs": [
    {
     "data": {
      "text/plain": [
       "0.00013123983810410097"
      ]
     },
     "execution_count": 11,
     "metadata": {},
     "output_type": "execute_result"
    }
   ],
   "source": [
    "# MSE error\n",
    "((pred_prob / pred_prob.max() - true_prob / true_prob.max())**2).mean()"
   ]
  },
  {
   "cell_type": "code",
   "execution_count": 12,
   "metadata": {},
   "outputs": [
    {
     "name": "stdout",
     "output_type": "stream",
     "text": [
      "(8, 6)\n"
     ]
    },
    {
     "data": {
      "image/png": "[encoded data removed]",
      "text/plain": [
       "<Figure size 640x480 with 1 Axes>"
      ]
     },
     "metadata": {},
     "output_type": "display_data"
    }
   ],
   "source": [
    "# getting the distribution for one pmt\n",
    "pmt = (0, 0)\n",
    "while true_prob[pmt] < 0.4 * 255:\n",
    "    pmt = (np.random.randint(32), np.random.randint(32))\n",
    "print(pmt)\n",
    "\n",
    "hist_width = 0.05\n",
    "pred = pd.Series(pred_rings[:, pmt[0], pmt[1]])\n",
    "hist = pd.Series(1, index=pd.cut(pred, np.arange(0, 1.01, hist_width))).sort_index().groupby(level=0).sum()\n",
    "pred_noise = hist / (hist.sum() * hist_width)\n",
    "\n",
    "plt.plot(np.arange(0, 1, hist_width), pred_noise)\n",
    "\n",
    "val = np.arange(0, 2.01, hist_width) * true_prob[pmt] / 255\n",
    "true_pmt_distr = np.exp(-(val - true_prob[pmt] / 255)**2 / 0.3**2)\n",
    "true_pmt_distr /= true_pmt_distr.sum() * hist_width * true_prob[pmt] / 255\n",
    "plt.plot(val, true_pmt_distr)\n",
    "plt.show()"
   ]
  },
  {
   "cell_type": "code",
   "execution_count": null,
   "metadata": {},
   "outputs": [],
   "source": []
  }
 ],
 "metadata": {
  "kernelspec": {
   "display_name": "ImageGeneration",
   "language": "python",
   "name": "python3"
  },
  "language_info": {
   "codemirror_mode": {
    "name": "ipython",
    "version": 3
   },
   "file_extension": ".py",
   "mimetype": "text/x-python",
   "name": "python",
   "nbconvert_exporter": "python",
   "pygments_lexer": "ipython3",
   "version": "3.10.11"
  },
  "orig_nbformat": 4
 },
 "nbformat": 4,
 "nbformat_minor": 2
}
