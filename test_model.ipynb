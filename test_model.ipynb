{
 "cells": [
  {
   "cell_type": "code",
   "execution_count": 79,
   "metadata": {},
   "outputs": [
    {
     "name": "stdout",
     "output_type": "stream",
     "text": [
      "The autoreload extension is already loaded. To reload it, use:\n",
      "  %reload_ext autoreload\n"
     ]
    }
   ],
   "source": [
    "%load_ext autoreload\n",
    "%autoreload 2\n",
    "\n",
    "from tqdm import tqdm\n",
    "\n",
    "from PIL import Image\n",
    "\n",
    "import torch\n",
    "import torch.nn.functional as F\n",
    "\n",
    "import pandas as pd\n",
    "import numpy as np\n",
    "import matplotlib.pyplot as plt\n",
    "\n",
    "from datasets import *\n",
    "from models import *\n",
    "\n",
    "torch._dynamo.config.suppress_errors = True"
   ]
  },
  {
   "attachments": {},
   "cell_type": "markdown",
   "metadata": {},
   "source": [
    "Load dataset:"
   ]
  },
  {
   "cell_type": "code",
   "execution_count": 80,
   "metadata": {},
   "outputs": [],
   "source": [
    "data_size = 640_000\n",
    "data_gen = single_random_ring(N=32)\n",
    "X, y = data_gen.generate_dataset(data_size=data_size, seed=42, device='cpu', test_return=True)"
   ]
  },
  {
   "cell_type": "code",
   "execution_count": 81,
   "metadata": {},
   "outputs": [
    {
     "name": "stdout",
     "output_type": "stream",
     "text": [
      "tensor([[0.0000, 0.3333, 0.9899, 0.6329, 0.2893, 0.5152]])\n"
     ]
    },
    {
     "data": {
      "image/png": "[encoded data removed]",
      "text/plain": [
       "<PIL.Image.Image image mode=L size=32x32>"
      ]
     },
     "execution_count": 81,
     "metadata": {},
     "output_type": "execute_result"
    }
   ],
   "source": [
    "i = np.random.choice(data_size)\n",
    "X_ = torch.Tensor(X[i].reshape(1, -1))\n",
    "print(X_)\n",
    "Image.fromarray((y[i] * 255).astype(np.uint8))"
   ]
  },
  {
   "attachments": {},
   "cell_type": "markdown",
   "metadata": {},
   "source": [
    "Test generator:"
   ]
  },
  {
   "cell_type": "code",
   "execution_count": 85,
   "metadata": {},
   "outputs": [
    {
     "name": "stdout",
     "output_type": "stream",
     "text": [
      "OptimizedModule(\n",
      "  (_orig_mod): b1conv_DGBaNR(\n",
      "    (linear_layers): Sequential(\n",
      "      (0): Linear(in_features=6, out_features=108, bias=True)\n",
      "      (1): ReLU()\n",
      "      (2): Linear(in_features=108, out_features=972, bias=True)\n",
      "      (3): ReLU()\n",
      "      (4): Linear(in_features=972, out_features=8192, bias=True)\n",
      "      (5): ReLU()\n",
      "    )\n",
      "    (conv_layers): Sequential(\n",
      "      (0): ConvTranspose2d(512, 256, kernel_size=(4, 4), stride=(2, 2), padding=(1, 1))\n",
      "      (1): BatchNorm2d(256, eps=1e-05, momentum=0.1, affine=True, track_running_stats=True)\n",
      "      (2): ReLU()\n",
      "      (3): ConvTranspose2d(256, 128, kernel_size=(4, 4), stride=(2, 2), padding=(1, 1))\n",
      "      (4): BatchNorm2d(128, eps=1e-05, momentum=0.1, affine=True, track_running_stats=True)\n",
      "      (5): ReLU()\n",
      "    )\n",
      "    (bayes_conv): ConvTranspose2dReparameterization()\n",
      "  )\n",
      ")\n",
      "Number of parameters: 10704210\n"
     ]
    }
   ],
   "source": [
    "# load generator\n",
    "generator = b1conv_DGBaNR(data_gen.n_features, 32, 'sigmoid')\n",
    "generator = torch.compile(generator)\n",
    "generator.load_state_dict(torch.load('../save_data/single_random_ring/Adam_mse_loss_3/b1conv_DGBaNR_sigmoid/b1conv_DGBaNR_sigmoid_15.pt', map_location=torch.device('cpu')))\n",
    "print(generator.eval())\n",
    "print('Number of parameters:', sum(p.numel() for p in generator.parameters()))"
   ]
  },
  {
   "cell_type": "code",
   "execution_count": 101,
   "metadata": {},
   "outputs": [
    {
     "name": "stdout",
     "output_type": "stream",
     "text": [
      "0.0044274385482081175\n"
     ]
    },
    {
     "data": {
      "image/png": "[encoded data removed]",
      "text/plain": [
       "<PIL.Image.Image image mode=L size=32x32>"
      ]
     },
     "execution_count": 101,
     "metadata": {},
     "output_type": "execute_result"
    }
   ],
   "source": [
    "y_pred = generator(X_.clone())[0].detach().numpy().squeeze()\n",
    "print(((y[i] - y_pred)**2).mean())\n",
    "Image.fromarray((y_pred * 255).astype(np.uint8()))"
   ]
  },
  {
   "cell_type": "code",
   "execution_count": 87,
   "metadata": {},
   "outputs": [],
   "source": [
    "# setting the base feature\n",
    "n_samples = 1000\n",
    "\n",
    "# getting the predictions for this feature\n",
    "pred_rings = np.zeros((n_samples, 32, 32))\n",
    "with torch.no_grad():\n",
    "    for j in range(n_samples):\n",
    "        pred_rings[j] += generator(X_)[0].detach().numpy().squeeze()\n",
    "pred_ring = pred_rings.sum(axis=0)\n",
    "\n",
    "# summing the predictions\n",
    "pred_prob = pred_ring * 255 / pred_ring.max()\n",
    "true_prob = data_gen.gaussian_from_features(*data_gen.scaler.inverse_transform(X_)[0].tolist()) * 255"
   ]
  },
  {
   "cell_type": "code",
   "execution_count": 88,
   "metadata": {},
   "outputs": [
    {
     "data": {
      "image/png": "[encoded data removed]",
      "text/plain": [
       "<PIL.Image.Image image mode=L size=32x32>"
      ]
     },
     "execution_count": 88,
     "metadata": {},
     "output_type": "execute_result"
    }
   ],
   "source": [
    "# predicted gaussian ring\n",
    "Image.fromarray(pred_prob.astype(np.uint8))"
   ]
  },
  {
   "cell_type": "code",
   "execution_count": 89,
   "metadata": {},
   "outputs": [
    {
     "data": {
      "image/png": "[encoded data removed]",
      "text/plain": [
       "<PIL.Image.Image image mode=L size=32x32>"
      ]
     },
     "execution_count": 89,
     "metadata": {},
     "output_type": "execute_result"
    }
   ],
   "source": [
    "# true gaussian ring\n",
    "Image.fromarray(true_prob.astype(np.uint8))"
   ]
  },
  {
   "cell_type": "code",
   "execution_count": 90,
   "metadata": {},
   "outputs": [
    {
     "data": {
      "image/png": "[encoded data removed]",
      "text/plain": [
       "<PIL.Image.Image image mode=L size=32x32>"
      ]
     },
     "execution_count": 90,
     "metadata": {},
     "output_type": "execute_result"
    }
   ],
   "source": [
    "# difference between the rings\n",
    "Image.fromarray(np.abs(true_prob - pred_prob).astype(np.uint8))"
   ]
  },
  {
   "cell_type": "code",
   "execution_count": 91,
   "metadata": {},
   "outputs": [
    {
     "data": {
      "text/plain": [
       "0.005077360320705722"
      ]
     },
     "execution_count": 91,
     "metadata": {},
     "output_type": "execute_result"
    }
   ],
   "source": [
    "# MSE error\n",
    "((pred_prob / pred_prob.max() - true_prob / true_prob.max())**2).mean()"
   ]
  },
  {
   "cell_type": "code",
   "execution_count": 92,
   "metadata": {},
   "outputs": [
    {
     "data": {
      "image/png": "[encoded data removed]",
      "text/plain": [
       "<Figure size 640x480 with 1 Axes>"
      ]
     },
     "metadata": {},
     "output_type": "display_data"
    }
   ],
   "source": [
    "# getting the distribution for one pmt\n",
    "pmt = (7, 7)\n",
    "pred = pd.Series(pred_rings[:, 7, 7])\n",
    "hist = pd.Series(1, index=pd.cut(pred, np.arange(0, 1.01, 0.1))).sort_index().groupby(level=0).sum()\n",
    "pred_noise = hist / (hist.sum() * 0.1)\n",
    "\n",
    "plt.plot(np.arange(0.05, 0.96, 0.1), pred_noise)\n",
    "\n",
    "val = np.arange(-0.3, 0.3, 0.01) + true_prob[pmt] / 255\n",
    "true_pmt_distr = np.exp(-(val - true_prob[pmt] / 255)**2 / 0.2**2)\n",
    "true_pmt_distr /= true_pmt_distr.sum() * 0.01\n",
    "plt.plot(val, true_pmt_distr)\n",
    "plt.show()"
   ]
  }
 ],
 "metadata": {
  "kernelspec": {
   "display_name": "ImageGeneration",
   "language": "python",
   "name": "python3"
  },
  "language_info": {
   "codemirror_mode": {
    "name": "ipython",
    "version": 3
   },
   "file_extension": ".py",
   "mimetype": "text/x-python",
   "name": "python",
   "nbconvert_exporter": "python",
   "pygments_lexer": "ipython3",
   "version": "3.10.11"
  },
  "orig_nbformat": 4
 },
 "nbformat": 4,
 "nbformat_minor": 2
}
