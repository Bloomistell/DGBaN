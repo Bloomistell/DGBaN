{
 "cells": [
  {
   "cell_type": "code",
   "execution_count": 1,
   "metadata": {},
   "outputs": [
    {
     "name": "stderr",
     "output_type": "stream",
     "text": [
      "/home/J000000000007/envs/DGBaN/lib/python3.6/site-packages/tqdm/auto.py:22: TqdmWarning: IProgress not found. Please update jupyter and ipywidgets. See https://ipywidgets.readthedocs.io/en/stable/user_install.html\n",
      "  from .autonotebook import tqdm as notebook_tqdm\n"
     ]
    }
   ],
   "source": [
    "%load_ext autoreload\n",
    "%autoreload 2\n",
    "\n",
    "from PIL import Image\n",
    "import torch\n",
    "import numpy as np\n",
    "\n",
    "from generate_dataset import simple_ring_dataset, randomized_ring_dataset\n",
    "from models import LinearGenerator, ConvGenerator\n",
    "from train_model import train_model\n",
    "\n",
    "import matplotlib.pyplot as plt"
   ]
  },
  {
   "cell_type": "code",
   "execution_count": 151,
   "metadata": {},
   "outputs": [],
   "source": [
    "def gaus(X, mean, sig):\n",
    "    return np.exp(-(X - mean)**2 / sig**2)"
   ]
  },
  {
   "cell_type": "code",
   "execution_count": 195,
   "metadata": {},
   "outputs": [],
   "source": [
    "def gaussian_distr_ring(N=32, data_size=10_000):\n",
    "    img_coor = np.array([[(i, j) for i in range(N)] for j in range(N)], dtype=np.int32)\n",
    "    centers = np.array([[(i, j) for i in range(N)] for j in range(N)], dtype=np.int32).reshape((N * N, 2))\n",
    "\n",
    "    center = centers[np.random.choice(N * N)]\n",
    "    mean = np.random.choice(np.arange(N * 0.2, N * 0.4))\n",
    "    sig = np.random.choice(np.arange(N * 0.05, N * 0.3))\n",
    "    nrg = np.random.choice(np.arange(0.05 * N * N, 0.21 * N * N, 0.02 * N))\n",
    "\n",
    "    radius = np.linalg.norm(img_coor - center, axis=2)\n",
    "\n",
    "    ring_prob = gaus(radius, mean, sig)\n",
    "\n",
    "    return ring_prob"
   ]
  },
  {
   "cell_type": "code",
   "execution_count": 197,
   "metadata": {},
   "outputs": [
    {
     "data": {
      "image/png": "[encoded data removed]",
      "text/plain": [
       "<PIL.Image.Image image mode=L size=32x32 at 0x7F772C7CF438>"
      ]
     },
     "execution_count": 197,
     "metadata": {},
     "output_type": "execute_result"
    }
   ],
   "source": [
    "Image.fromarray((gaussian_distr_ring() * 100).astype(np.uint8))"
   ]
  },
  {
   "cell_type": "code",
   "execution_count": 235,
   "metadata": {},
   "outputs": [
    {
     "data": {
      "image/png": "[encoded data removed]",
      "text/plain": [
       "<PIL.Image.Image image mode=1 size=32x32 at 0x7F772C75EE10>"
      ]
     },
     "execution_count": 235,
     "metadata": {},
     "output_type": "execute_result"
    }
   ],
   "source": [
    "N = 32\n",
    "ring_prob = gaussian_distr_ring(32, 10000)\n",
    "img_coor = np.array([[(i, j) for i in range(32)] for j in range(32)], dtype=np.int32)\n",
    "activated_pmts = img_coor.reshape((N * N, 2))[np.random.choice(np.arange(N * N), 100, p=ring_prob.flatten() / ring_prob.sum())]\n",
    "img = np.zeros_like(ring_prob, dtype=np.bool)\n",
    "img[activated_pmts[:, 0], activated_pmts[:, 1]] = 1\n",
    "Image.fromarray(img)"
   ]
  },
  {
   "cell_type": "code",
   "execution_count": 5,
   "metadata": {},
   "outputs": [
    {
     "data": {
      "image/png": "[encoded data removed]",
      "text/plain": [
       "<Figure size 432x288 with 1 Axes>"
      ]
     },
     "metadata": {
      "needs_background": "light"
     },
     "output_type": "display_data"
    }
   ],
   "source": [
    "def random_ring(ring_prob):\n",
    "    n\n",
    "\n",
    "    img = np.zeros_like(radius, dtype=np.bool)\n",
    "    img[np.logical_and(radius >= self.inners[width_idx], radius < self.outers[width_idx])] = 1\n",
    "\n",
    "    features = np.array([center[0], center[1], self.inners[width_idx], self.outers[width_idx]]).reshape(1, -1)\n",
    "    features = torch.tensor(self.scaler.transform(features), dtype=torch.float)\n",
    "\n",
    "    return features, img"
   ]
  },
  {
   "cell_type": "code",
   "execution_count": 3,
   "metadata": {},
   "outputs": [
    {
     "ename": "NameError",
     "evalue": "name 'dataset_generator' is not defined",
     "output_type": "error",
     "traceback": [
      "\u001b[0;31m---------------------------------------------------------------------------\u001b[0m",
      "\u001b[0;31mNameError\u001b[0m                                 Traceback (most recent call last)",
      "\u001b[0;32m<ipython-input-3-b7d4a20e1010>\u001b[0m in \u001b[0;36m<module>\u001b[0;34m\u001b[0m\n\u001b[0;32m----> 1\u001b[0;31m \u001b[0mgenerator\u001b[0m \u001b[0;34m=\u001b[0m \u001b[0mConvGenerator\u001b[0m\u001b[0;34m(\u001b[0m\u001b[0mdataset_generator\u001b[0m\u001b[0;34m.\u001b[0m\u001b[0mn_features\u001b[0m\u001b[0;34m,\u001b[0m \u001b[0mimg_size\u001b[0m\u001b[0;34m=\u001b[0m\u001b[0;36m32\u001b[0m\u001b[0;34m)\u001b[0m\u001b[0;34m\u001b[0m\u001b[0;34m\u001b[0m\u001b[0m\n\u001b[0m\u001b[1;32m      2\u001b[0m \u001b[0mgenerator\u001b[0m\u001b[0;34m.\u001b[0m\u001b[0mload_state_dict\u001b[0m\u001b[0;34m(\u001b[0m\u001b[0mtorch\u001b[0m\u001b[0;34m.\u001b[0m\u001b[0mload\u001b[0m\u001b[0;34m(\u001b[0m\u001b[0;34m'./save_model/naive_conv.pt'\u001b[0m\u001b[0;34m)\u001b[0m\u001b[0;34m)\u001b[0m\u001b[0;34m\u001b[0m\u001b[0;34m\u001b[0m\u001b[0m\n",
      "\u001b[0;31mNameError\u001b[0m: name 'dataset_generator' is not defined"
     ]
    }
   ],
   "source": [
    "generator = ConvGenerator(dataset_generator.n_features, img_size=32)\n",
    "generator.load_state_dict(torch.load('./save_model/naive_conv.pt'))"
   ]
  },
  {
   "cell_type": "code",
   "execution_count": 25,
   "metadata": {},
   "outputs": [
    {
     "data": {
      "image/png": "[encoded data removed]",
      "text/plain": [
       "<PIL.Image.Image image mode=1 size=32x32>"
      ]
     },
     "execution_count": 25,
     "metadata": {},
     "output_type": "execute_result"
    }
   ],
   "source": [
    "features, img = ring_gen.random_ring()\n",
    "Image.fromarray(img)"
   ]
  },
  {
   "cell_type": "code",
   "execution_count": 26,
   "metadata": {},
   "outputs": [
    {
     "data": {
      "image/png": "[encoded data removed]",
      "text/plain": [
       "<PIL.Image.Image image mode=1 size=32x32>"
      ]
     },
     "execution_count": 26,
     "metadata": {},
     "output_type": "execute_result"
    }
   ],
   "source": [
    "img_pred = generator(features).detach().numpy().squeeze() > 0.5\n",
    "Image.fromarray(img_pred)"
   ]
  },
  {
   "cell_type": "code",
   "execution_count": null,
   "metadata": {},
   "outputs": [],
   "source": [
    "img = generator(torch.tensor([[15, 15, 5, 10]], dtype=torch.float)).detach().numpy().squeeze()"
   ]
  },
  {
   "cell_type": "code",
   "execution_count": 57,
   "metadata": {},
   "outputs": [
    {
     "data": {
      "image/png": "[encoded data removed]",
      "text/plain": [
       "<PIL.Image.Image image mode=L size=32x32>"
      ]
     },
     "execution_count": 57,
     "metadata": {},
     "output_type": "execute_result"
    }
   ],
   "source": [
    "Image.fromarray(create_ring_img(32, (15, 15), 5, 10))"
   ]
  },
  {
   "cell_type": "code",
   "execution_count": null,
   "metadata": {},
   "outputs": [],
   "source": []
  }
 ],
 "metadata": {
  "kernelspec": {
   "display_name": "ImageGeneration",
   "language": "python",
   "name": "python3"
  },
  "language_info": {
   "codemirror_mode": {
    "name": "ipython",
    "version": 3
   },
   "file_extension": ".py",
   "mimetype": "text/x-python",
   "name": "python",
   "nbconvert_exporter": "python",
   "pygments_lexer": "ipython3",
   "version": "3.6.8"
  },
  "orig_nbformat": 4
 },
 "nbformat": 4,
 "nbformat_minor": 2
}
