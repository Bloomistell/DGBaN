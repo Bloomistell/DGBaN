{
 "cells": [
  {
   "cell_type": "code",
   "execution_count": 1,
   "metadata": {},
   "outputs": [],
   "source": [
    "%load_ext autoreload\n",
    "%autoreload 2\n",
    "\n",
    "from tqdm import tqdm\n",
    "\n",
    "from PIL import Image\n",
    "\n",
    "import torch\n",
    "from torch import nn\n",
    "import torch.nn.functional as F\n",
    "\n",
    "import pandas as pd\n",
    "import numpy as np\n",
    "import matplotlib.pyplot as plt\n",
    "\n",
    "from datasets import *\n",
    "from models import *\n",
    "from utils import *\n",
    "\n",
    "# torch._dynamo.config.suppress_errors = True"
   ]
  },
  {
   "attachments": {},
   "cell_type": "markdown",
   "metadata": {},
   "source": [
    "Load dataset:"
   ]
  },
  {
   "cell_type": "code",
   "execution_count": 15,
   "metadata": {},
   "outputs": [
    {
     "data": {
      "text/plain": [
       "{'mse_loss': {'mean': 0.010259420610964298, 'std': 0.00042792316526174545},\n",
       " 'l1_loss': {'mean': 0.08140861243009567, 'std': 0.0018837638199329376}}"
      ]
     },
     "execution_count": 15,
     "metadata": {},
     "output_type": "execute_result"
    }
   ],
   "source": [
    "data_size = 1000000\n",
    "data_gen = FeatureRandomRing3(N=32)\n",
    "X, y = data_gen.generate_dataset(data_size=data_size, noise=True, sigma=0.3, features_degree=2, seed=42, device='cpu', test_return=True)\n",
    "data_gen.noise_delta"
   ]
  },
  {
   "cell_type": "code",
   "execution_count": 16,
   "metadata": {},
   "outputs": [
    {
     "name": "stdout",
     "output_type": "stream",
     "text": [
      "[[13.         11.          8.90931     1.036052    0.8420027   0.08427981]\n",
      " [ 9.          9.          8.184581    1.1812047   0.3102652   0.22517234]\n",
      " [10.         14.          8.260114    1.0568107   3.4546118   0.16551465]\n",
      " ...\n",
      " [10.         13.          8.876792    1.38974     0.841757    0.03283554]\n",
      " [12.         12.          7.159465    1.1992157   4.868433    0.42001247]\n",
      " [13.         14.          6.379924    1.5157822   1.1777085   0.29163417]]\n",
      "[[0.         0.71428571 0.42857143 ... 0.01795845 0.02259617 0.02841242]\n",
      " [0.         0.14285714 0.14285714 ... 0.00243842 0.0222457  0.20281086]\n",
      " [0.         0.28571429 0.85714286 ... 0.30230151 0.18206882 0.10958068]\n",
      " ...\n",
      " [0.         0.28571429 0.71428571 ... 0.01794797 0.00880086 0.0043127 ]\n",
      " [0.         0.57142857 0.57142857 ... 0.6003717  0.65110569 0.70564376]\n",
      " [0.         0.71428571 0.85714286 ... 0.03513318 0.10936439 0.34020285]]\n"
     ]
    },
    {
     "data": {
      "image/png": "[encoded data removed]",
      "text/plain": [
       "<PIL.Image.Image image mode=L size=32x32>"
      ]
     },
     "execution_count": 16,
     "metadata": {},
     "output_type": "execute_result"
    }
   ],
   "source": [
    "features, transformed_features, imgs = data_gen.random_sample(256)\n",
    "print(features)\n",
    "print(transformed_features)\n",
    "Image.fromarray(abs(imgs[0].reshape((32, 32)) * 255 / imgs[0].max()).astype(np.uint8))"
   ]
  },
  {
   "attachments": {},
   "cell_type": "markdown",
   "metadata": {},
   "source": [
    "Test generator:"
   ]
  },
  {
   "cell_type": "code",
   "execution_count": 17,
   "metadata": {},
   "outputs": [
    {
     "name": "stdout",
     "output_type": "stream",
     "text": [
      "DGBaNConv17(\n",
      "  (linear_layers): NLinearNormAct(\n",
      "    (linear_act): ModuleList(\n",
      "      (0): LinearReparameterization()\n",
      "      (1): ReLU()\n",
      "      (2): LinearReparameterization()\n",
      "      (3): ReLU()\n",
      "      (4): LinearReparameterization()\n",
      "      (5): ReLU()\n",
      "      (6): LinearReparameterization()\n",
      "      (7): ReLU()\n",
      "      (8): LinearReparameterization()\n",
      "      (9): ReLU()\n",
      "    )\n",
      "  )\n",
      "  (conv_layers): BayesSequential(\n",
      "    (bayes_modules): ModuleList(\n",
      "      (0): BottleNeck(\n",
      "        (block): ResidualAdd(\n",
      "          (block): BayesSequential(\n",
      "            (bayes_modules): ModuleList(\n",
      "              (0-1): 2 x ConvNormAct(\n",
      "                (conv): ConvTranspose2dReparameterization()\n",
      "                (norm): BatchNorm2d(64, eps=1e-05, momentum=0.1, affine=True, track_running_stats=True)\n",
      "                (act): ReLU()\n",
      "              )\n",
      "              (2): ConvNormAct(\n",
      "                (conv): ConvTranspose2dReparameterization()\n",
      "                (norm): BatchNorm2d(256, eps=1e-05, momentum=0.1, affine=True, track_running_stats=True)\n",
      "                (act): Identity()\n",
      "              )\n",
      "            )\n",
      "          )\n",
      "        )\n",
      "      )\n",
      "      (1): Conv2x3x3NormAct(\n",
      "        (block): ResidualAdd(\n",
      "          (block): BayesSequential(\n",
      "            (bayes_modules): ModuleList(\n",
      "              (0): ConvNormAct(\n",
      "                (conv): ConvTranspose2dReparameterization()\n",
      "                (norm): BatchNorm2d(256, eps=1e-05, momentum=0.1, affine=True, track_running_stats=True)\n",
      "                (act): ReLU()\n",
      "              )\n",
      "              (1): ConvNormAct(\n",
      "                (conv): ConvTranspose2dReparameterization()\n",
      "                (norm): BatchNorm2d(128, eps=1e-05, momentum=0.1, affine=True, track_running_stats=True)\n",
      "                (act): Identity()\n",
      "              )\n",
      "            )\n",
      "          )\n",
      "          (shortcut): ConvNormAct(\n",
      "            (conv): ConvTranspose2dReparameterization()\n",
      "            (norm): BatchNorm2d(128, eps=1e-05, momentum=0.1, affine=True, track_running_stats=True)\n",
      "            (act): ReLU()\n",
      "          )\n",
      "        )\n",
      "      )\n",
      "      (2): ResidualAdd(\n",
      "        (block): BayesSequential(\n",
      "          (bayes_modules): ModuleList(\n",
      "            (0): ScaleUp(\n",
      "              (conv_t): ConvTranspose2dReparameterization()\n",
      "            )\n",
      "            (1): ConvNormAct(\n",
      "              (conv): ConvTranspose2dReparameterization()\n",
      "              (norm): BatchNorm2d(128, eps=1e-05, momentum=0.1, affine=True, track_running_stats=True)\n",
      "              (act): ReLU()\n",
      "            )\n",
      "          )\n",
      "        )\n",
      "        (shortcut): ConvNormAct(\n",
      "          (conv): ConvTranspose2dReparameterization()\n",
      "          (norm): BatchNorm2d(128, eps=1e-05, momentum=0.1, affine=True, track_running_stats=True)\n",
      "          (act): ReLU()\n",
      "        )\n",
      "      )\n",
      "      (3): Conv2x3x3NormAct(\n",
      "        (block): ResidualAdd(\n",
      "          (block): BayesSequential(\n",
      "            (bayes_modules): ModuleList(\n",
      "              (0): ConvNormAct(\n",
      "                (conv): ConvTranspose2dReparameterization()\n",
      "                (norm): BatchNorm2d(128, eps=1e-05, momentum=0.1, affine=True, track_running_stats=True)\n",
      "                (act): ReLU()\n",
      "              )\n",
      "              (1): ConvNormAct(\n",
      "                (conv): ConvTranspose2dReparameterization()\n",
      "                (norm): BatchNorm2d(64, eps=1e-05, momentum=0.1, affine=True, track_running_stats=True)\n",
      "                (act): Identity()\n",
      "              )\n",
      "            )\n",
      "          )\n",
      "          (shortcut): ConvNormAct(\n",
      "            (conv): ConvTranspose2dReparameterization()\n",
      "            (norm): BatchNorm2d(64, eps=1e-05, momentum=0.1, affine=True, track_running_stats=True)\n",
      "            (act): ReLU()\n",
      "          )\n",
      "        )\n",
      "      )\n",
      "      (4): ResidualAdd(\n",
      "        (block): BayesSequential(\n",
      "          (bayes_modules): ModuleList(\n",
      "            (0): ScaleUp(\n",
      "              (conv_t): ConvTranspose2dReparameterization()\n",
      "            )\n",
      "            (1): ConvNormAct(\n",
      "              (conv): ConvTranspose2dReparameterization()\n",
      "              (norm): BatchNorm2d(64, eps=1e-05, momentum=0.1, affine=True, track_running_stats=True)\n",
      "              (act): ReLU()\n",
      "            )\n",
      "          )\n",
      "        )\n",
      "        (shortcut): ConvNormAct(\n",
      "          (conv): ConvTranspose2dReparameterization()\n",
      "          (norm): BatchNorm2d(64, eps=1e-05, momentum=0.1, affine=True, track_running_stats=True)\n",
      "          (act): ReLU()\n",
      "        )\n",
      "      )\n",
      "      (5): Conv2x3x3NormAct(\n",
      "        (block): ResidualAdd(\n",
      "          (block): BayesSequential(\n",
      "            (bayes_modules): ModuleList(\n",
      "              (0): ConvNormAct(\n",
      "                (conv): ConvTranspose2dReparameterization()\n",
      "                (norm): BatchNorm2d(64, eps=1e-05, momentum=0.1, affine=True, track_running_stats=True)\n",
      "                (act): ReLU()\n",
      "              )\n",
      "              (1): ConvNormAct(\n",
      "                (conv): ConvTranspose2dReparameterization()\n",
      "                (norm): BatchNorm2d(32, eps=1e-05, momentum=0.1, affine=True, track_running_stats=True)\n",
      "                (act): Identity()\n",
      "              )\n",
      "            )\n",
      "          )\n",
      "          (shortcut): ConvNormAct(\n",
      "            (conv): ConvTranspose2dReparameterization()\n",
      "            (norm): BatchNorm2d(32, eps=1e-05, momentum=0.1, affine=True, track_running_stats=True)\n",
      "            (act): ReLU()\n",
      "          )\n",
      "        )\n",
      "      )\n",
      "      (6): ResidualAdd(\n",
      "        (block): BayesSequential(\n",
      "          (bayes_modules): ModuleList(\n",
      "            (0): ScaleUp(\n",
      "              (conv_t): ConvTranspose2dReparameterization()\n",
      "            )\n",
      "            (1): ConvNormAct(\n",
      "              (conv): ConvTranspose2dReparameterization()\n",
      "              (norm): BatchNorm2d(32, eps=1e-05, momentum=0.1, affine=True, track_running_stats=True)\n",
      "              (act): ReLU()\n",
      "            )\n",
      "          )\n",
      "        )\n",
      "        (shortcut): ConvNormAct(\n",
      "          (conv): ConvTranspose2dReparameterization()\n",
      "          (norm): BatchNorm2d(32, eps=1e-05, momentum=0.1, affine=True, track_running_stats=True)\n",
      "          (act): ReLU()\n",
      "        )\n",
      "      )\n",
      "      (7): Conv2x3x3NormAct(\n",
      "        (block): ResidualAdd(\n",
      "          (block): BayesSequential(\n",
      "            (bayes_modules): ModuleList(\n",
      "              (0): ConvNormAct(\n",
      "                (conv): ConvTranspose2dReparameterization()\n",
      "                (norm): BatchNorm2d(32, eps=1e-05, momentum=0.1, affine=True, track_running_stats=True)\n",
      "                (act): ReLU()\n",
      "              )\n",
      "              (1): ConvNormAct(\n",
      "                (conv): ConvTranspose2dReparameterization()\n",
      "                (norm): BatchNorm2d(16, eps=1e-05, momentum=0.1, affine=True, track_running_stats=True)\n",
      "                (act): Identity()\n",
      "              )\n",
      "            )\n",
      "          )\n",
      "          (shortcut): ConvNormAct(\n",
      "            (conv): ConvTranspose2dReparameterization()\n",
      "            (norm): BatchNorm2d(16, eps=1e-05, momentum=0.1, affine=True, track_running_stats=True)\n",
      "            (act): ReLU()\n",
      "          )\n",
      "        )\n",
      "      )\n",
      "      (8): LastConv(\n",
      "        (conv_t): ConvTranspose2dReparameterization()\n",
      "      )\n",
      "    )\n",
      "  )\n",
      ")\n",
      "Number of parameters: 4,357,505\n"
     ]
    }
   ],
   "source": [
    "# load generator\n",
    "generator = DGBaNConv17()\n",
    "# generator = torch.compile(generator)\n",
    "\n",
    "pre_trained_weights = torch.load(\n",
    "    '../save_data/FeatureRandomRing3/Adam_mse_loss_0/DGBaNConv17_no_activation_function/DGBaNConv17_no_activation_function_73.pt',\n",
    "    map_location=torch.device('cpu')\n",
    ")\n",
    "generator.load_state_dict(pre_trained_weights)\n",
    "\n",
    "print(generator.eval())\n",
    "print(f'Number of parameters: {count_params(generator):,}')"
   ]
  },
  {
   "cell_type": "code",
   "execution_count": 21,
   "metadata": {},
   "outputs": [
    {
     "name": "stdout",
     "output_type": "stream",
     "text": [
      "0.020423118\n",
      "0.09747109\n",
      "0.0005704295\n"
     ]
    },
    {
     "data": {
      "image/png": "[encoded data removed]",
      "text/plain": [
       "<PIL.Image.Image image mode=L size=32x32>"
      ]
     },
     "execution_count": 21,
     "metadata": {},
     "output_type": "execute_result"
    }
   ],
   "source": [
    "mse_loss = []\n",
    "l1_loss = []\n",
    "AbsMeanDelta = []\n",
    "for i in range(1):\n",
    "    y_pred = generator(torch.Tensor(transformed_features[:1]))[0].detach().numpy().squeeze()\n",
    "    mse_loss.append(((y_pred - imgs[0])**2).mean())\n",
    "    l1_loss.append(abs(y_pred - imgs[0]).mean())\n",
    "    AbsMeanDelta.append(abs((y_pred - imgs[0]).mean()))\n",
    " \n",
    "print(np.mean(mse_loss))\n",
    "print(np.mean(l1_loss))\n",
    "print(np.mean(AbsMeanDelta))\n",
    "Image.fromarray(abs(y_pred.reshape((32, 32)) * 255).astype(np.uint8))"
   ]
  },
  {
   "cell_type": "code",
   "execution_count": 22,
   "metadata": {},
   "outputs": [],
   "source": [
    "n_samples = 1000\n",
    "\n",
    "# getting the predictions for this feature\n",
    "pred_rings = torch.zeros((n_samples, 1024), dtype=torch.float, device='cpu')\n",
    "X = torch.Tensor(transformed_features[:1])\n",
    "with torch.no_grad():\n",
    "    for j in range(n_samples):\n",
    "        pred_rings[j] += generator(X)[0].squeeze()\n",
    "\n",
    "pred_rings = pred_rings.detach().numpy().reshape((n_samples, 32, 32))\n",
    "\n",
    "pred_ring = pred_rings.mean(axis=0) * 255\n",
    "true_img = data_gen.ring_from_features(*features[0])\n",
    "true_ring = true_img * 255"
   ]
  },
  {
   "cell_type": "code",
   "execution_count": 23,
   "metadata": {},
   "outputs": [],
   "source": [
    "# n_samples = data_gen.kernel.shape[0] // 20\n",
    "\n",
    "# # getting the predictions for this feature\n",
    "# true_prob_samples = torch.zeros((n_samples, 32, 32))\n",
    "# for j in range(n_samples):\n",
    "#     true_prob_samples[j] += true_img * data_gen.kernel[j].reshape((32, 32))\n",
    "\n",
    "mean, sig, theta, phi = features[0][2], features[0][3], features[0][4], features[0][5]\n",
    "\n",
    "true_prob_samples = data_gen.get_noise(1000000, mean, sig, theta, phi)[0, :].numpy()"
   ]
  },
  {
   "cell_type": "code",
   "execution_count": 24,
   "metadata": {},
   "outputs": [
    {
     "data": {
      "image/png": "[encoded data removed]",
      "text/plain": [
       "<PIL.Image.Image image mode=L size=32x32>"
      ]
     },
     "execution_count": 24,
     "metadata": {},
     "output_type": "execute_result"
    }
   ],
   "source": [
    "# predicted gaussian ring\n",
    "Image.fromarray(abs(pred_ring).astype(np.uint8))"
   ]
  },
  {
   "cell_type": "code",
   "execution_count": 25,
   "metadata": {},
   "outputs": [
    {
     "data": {
      "image/png": "[encoded data removed]",
      "text/plain": [
       "<PIL.Image.Image image mode=L size=32x32>"
      ]
     },
     "execution_count": 25,
     "metadata": {},
     "output_type": "execute_result"
    }
   ],
   "source": [
    "# true gaussian ring\n",
    "Image.fromarray(true_ring.numpy().astype(np.uint8))"
   ]
  },
  {
   "cell_type": "code",
   "execution_count": 26,
   "metadata": {},
   "outputs": [
    {
     "data": {
      "image/png": "[encoded data removed]",
      "text/plain": [
       "<PIL.Image.Image image mode=L size=32x32>"
      ]
     },
     "execution_count": 26,
     "metadata": {},
     "output_type": "execute_result"
    }
   ],
   "source": [
    "# difference between the rings\n",
    "Image.fromarray(np.abs(true_ring.numpy() - pred_ring).astype(np.uint8))"
   ]
  },
  {
   "cell_type": "code",
   "execution_count": 27,
   "metadata": {},
   "outputs": [
    {
     "data": {
      "text/plain": [
       "0.8687409"
      ]
     },
     "execution_count": 27,
     "metadata": {},
     "output_type": "execute_result"
    }
   ],
   "source": [
    "# MSE error\n",
    "((pred_ring / pred_ring.max() - true_ring.numpy() / true_ring.numpy().max())**2).mean()"
   ]
  },
  {
   "cell_type": "code",
   "execution_count": 28,
   "metadata": {},
   "outputs": [
    {
     "name": "stdout",
     "output_type": "stream",
     "text": [
      "(21, 11)\n"
     ]
    },
    {
     "data": {
      "image/png": "[encoded data removed]",
      "text/plain": [
       "<Figure size 640x480 with 1 Axes>"
      ]
     },
     "metadata": {},
     "output_type": "display_data"
    }
   ],
   "source": [
    "# getting the distribution for one pmt\n",
    "pmt = (np.random.randint(32), np.random.randint(32))\n",
    "while true_ring[pmt] < 0.4 * 255:\n",
    "    pmt = (np.random.randint(32), np.random.randint(32))\n",
    "print(pmt)\n",
    "\n",
    "hist_width = 0.001\n",
    "\n",
    "# predictited distribution\n",
    "hist, bins = np.histogram(pred_rings[:, pmt[0], pmt[1]], bins=50, density=True)\n",
    "bin_centers = (bins[:-1] + bins[1:]) / 2\n",
    "plt.plot(bin_centers, hist)\n",
    "\n",
    "\n",
    "# pred = pd.Series(pred_rings[:, pmt[0], pmt[1]])\n",
    "# hist = pd.Series(1, index=pd.cut(pred, np.arange(0, 1.005, hist_width))).sort_index().groupby(level=0).sum()\n",
    "# pred_noise = hist / (hist.sum() * hist_width)\n",
    "# plt.plot(np.arange(0, 1, hist_width), pred_noise)\n",
    "\n",
    "# true distribution\n",
    "plt.hist(true_prob_samples + true_ring[pmt].item() / 255, bins=1000, density=True)\n",
    "plt.show()"
   ]
  },
  {
   "cell_type": "code",
   "execution_count": null,
   "metadata": {},
   "outputs": [],
   "source": []
  }
 ],
 "metadata": {
  "kernelspec": {
   "display_name": "ImageGeneration",
   "language": "python",
   "name": "python3"
  },
  "language_info": {
   "codemirror_mode": {
    "name": "ipython",
    "version": 3
   },
   "file_extension": ".py",
   "mimetype": "text/x-python",
   "name": "python",
   "nbconvert_exporter": "python",
   "pygments_lexer": "ipython3",
   "version": "3.10.11"
  },
  "orig_nbformat": 4
 },
 "nbformat": 4,
 "nbformat_minor": 2
}
