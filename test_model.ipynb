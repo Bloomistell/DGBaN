{
 "cells": [
  {
   "cell_type": "code",
   "execution_count": 10,
   "metadata": {},
   "outputs": [
    {
     "name": "stdout",
     "output_type": "stream",
     "text": [
      "The autoreload extension is already loaded. To reload it, use:\n",
      "  %reload_ext autoreload\n"
     ]
    }
   ],
   "source": [
    "%load_ext autoreload\n",
    "%autoreload 2\n",
    "\n",
    "from tqdm import tqdm\n",
    "\n",
    "from PIL import Image\n",
    "\n",
    "import torch\n",
    "\n",
    "import numpy as np\n",
    "import matplotlib.pyplot as plt\n",
    "\n",
    "from datasets import ring_dataset, randomized_ring_dataset, energy_randomized_ring_dataset\n",
    "from models import DGBaNR, big_DGBaNR"
   ]
  },
  {
   "attachments": {},
   "cell_type": "markdown",
   "metadata": {},
   "source": [
    "Load dataset:"
   ]
  },
  {
   "cell_type": "code",
   "execution_count": 13,
   "metadata": {},
   "outputs": [],
   "source": [
    "data_gen = energy_randomized_ring_dataset(N=32)\n",
    "features, imgs = data_gen.generate_dataset(data_size=64000, seed=42, device='cpu', test_return=True)"
   ]
  },
  {
   "cell_type": "code",
   "execution_count": 14,
   "metadata": {},
   "outputs": [
    {
     "data": {
      "image/png": "[encoded data removed]",
      "text/plain": [
       "<PIL.Image.Image image mode=L size=32x32 at 0x7FC8EEE5B908>"
      ]
     },
     "execution_count": 14,
     "metadata": {},
     "output_type": "execute_result"
    }
   ],
   "source": [
    "gaussian_ring, center, mean, sig = data_gen.gaussian_ring(1)\n",
    "gaussian_ring, center, mean, sig = gaussian_ring[0], center[0], mean[0], sig[0]\n",
    "\n",
    "features = torch.Tensor([[center[0], center[1], mean, sig, gaussian_ring.mean() * 32 * 32]])\n",
    "\n",
    "Image.fromarray((gaussian_ring.reshape((32, 32)) * 255).astype(np.uint8))"
   ]
  },
  {
   "attachments": {},
   "cell_type": "markdown",
   "metadata": {},
   "source": [
    "Test generator:"
   ]
  },
  {
   "cell_type": "code",
   "execution_count": 65,
   "metadata": {},
   "outputs": [
    {
     "data": {
      "text/plain": [
       "big_DGBaNR(\n",
       "  (linear1): LinearReparameterization()\n",
       "  (linear2): LinearReparameterization()\n",
       "  (conv1): ConvTranspose2dReparameterization()\n",
       "  (batch_norm1): BatchNorm2d(256, eps=1e-05, momentum=0.1, affine=True, track_running_stats=True)\n",
       "  (conv2): ConvTranspose2dReparameterization()\n",
       "  (batch_norm2): BatchNorm2d(128, eps=1e-05, momentum=0.1, affine=True, track_running_stats=True)\n",
       "  (conv3): ConvTranspose2dReparameterization()\n",
       ")"
      ]
     },
     "execution_count": 65,
     "metadata": {},
     "output_type": "execute_result"
    }
   ],
   "source": [
    "# load generator\n",
    "generator = big_DGBaNR(data_gen.n_features, 32, 'sigmoid')\n",
    "generator.load_state_dict(torch.load('../save_model/big_DGBaNR_sigmoid_energy_random_1280000_32_Adam_mse_loss_5.pt', map_location=torch.device('cpu')))\n",
    "generator.eval()"
   ]
  },
  {
   "cell_type": "code",
   "execution_count": 66,
   "metadata": {},
   "outputs": [
    {
     "data": {
      "text/plain": [
       "9461762"
      ]
     },
     "execution_count": 66,
     "metadata": {},
     "output_type": "execute_result"
    }
   ],
   "source": [
    "sum(p.numel() for p in generator.parameters())"
   ]
  },
  {
   "cell_type": "code",
   "execution_count": 67,
   "metadata": {},
   "outputs": [],
   "source": [
    "# setting the base feature\n",
    "n_samples = 3000\n",
    "feature = data_gen.scaler.transform(np.array([[15, 15, 9.4, 3.6]]))\n",
    "features = [torch.Tensor(feature) for i in range(n_samples)]\n",
    "\n",
    "# getting the predictions for this feature\n",
    "pred_rings = np.zeros((n_samples, 32, 32))\n",
    "with torch.no_grad():\n",
    "    for i, tensor in enumerate(features):\n",
    "        pred_rings[i] += generator(tensor)[0].numpy().squeeze()\n",
    "pred_ring = pred_rings.sum(axis=0)\n",
    "\n",
    "# summing the predictions\n",
    "pred_prob = pred_ring * 255 / pred_ring.max()\n",
    "true_prob = data_gen.gaussian_from_features(15, 15, 9.4, 3.6) * 255"
   ]
  },
  {
   "cell_type": "code",
   "execution_count": 68,
   "metadata": {},
   "outputs": [
    {
     "data": {
      "image/png": "[encoded data removed]",
      "text/plain": [
       "<PIL.Image.Image image mode=L size=32x32 at 0x7FC8EE5AD240>"
      ]
     },
     "execution_count": 68,
     "metadata": {},
     "output_type": "execute_result"
    }
   ],
   "source": [
    "# predicted gaussian ring\n",
    "Image.fromarray(pred_prob.astype(np.uint8))"
   ]
  },
  {
   "cell_type": "code",
   "execution_count": 69,
   "metadata": {},
   "outputs": [
    {
     "data": {
      "image/png": "[encoded data removed]",
      "text/plain": [
       "<PIL.Image.Image image mode=L size=32x32 at 0x7FC8EDC65710>"
      ]
     },
     "execution_count": 69,
     "metadata": {},
     "output_type": "execute_result"
    }
   ],
   "source": [
    "# true gaussian ring\n",
    "Image.fromarray(true_prob.astype(np.uint8))"
   ]
  },
  {
   "cell_type": "code",
   "execution_count": 70,
   "metadata": {},
   "outputs": [
    {
     "data": {
      "image/png": "[encoded data removed]",
      "text/plain": [
       "<PIL.Image.Image image mode=L size=32x32 at 0x7FC8EEDCC6A0>"
      ]
     },
     "execution_count": 70,
     "metadata": {},
     "output_type": "execute_result"
    }
   ],
   "source": [
    "# difference between the rings\n",
    "Image.fromarray(np.abs(true_prob - pred_prob).astype(np.uint8))"
   ]
  },
  {
   "cell_type": "code",
   "execution_count": 71,
   "metadata": {},
   "outputs": [
    {
     "name": "stdout",
     "output_type": "stream",
     "text": [
      "0.1034826997667873\n"
     ]
    }
   ],
   "source": [
    "# relative error\n",
    "print(np.abs(true_prob - pred_prob).mean() / true_prob.mean())"
   ]
  },
  {
   "cell_type": "code",
   "execution_count": 82,
   "metadata": {},
   "outputs": [
    {
     "name": "stdout",
     "output_type": "stream",
     "text": [
      "[0.63747895 0.64747895 0.65747895 0.66747895 0.67747895 0.68747895\n",
      " 0.69747895 0.70747895 0.71747895 0.72747895 0.73747895 0.74747895\n",
      " 0.75747895 0.76747895 0.77747895 0.78747895 0.79747895 0.80747895\n",
      " 0.81747895 0.82747895 0.83747895 0.84747895 0.85747895 0.86747895\n",
      " 0.87747895 0.88747895 0.89747895 0.90747895 0.91747895 0.92747895\n",
      " 0.93747895 0.94747895 0.95747895 0.96747895 0.97747895 0.98747895\n",
      " 0.99747895 1.00747895 1.01747895 1.02747895 1.03747895 1.04747895\n",
      " 1.05747895 1.06747895 1.07747895 1.08747895 1.09747895 1.10747895\n",
      " 1.11747895 1.12747895 1.13747895 1.14747895 1.15747895 1.16747895\n",
      " 1.17747895 1.18747895 1.19747895 1.20747895 1.21747895 1.22747895]\n"
     ]
    },
    {
     "data": {
      "image/png": "[encoded data removed]",
      "text/plain": [
       "<Figure size 432x288 with 1 Axes>"
      ]
     },
     "metadata": {
      "needs_background": "light"
     },
     "output_type": "display_data"
    }
   ],
   "source": [
    "# getting the distribution for one pmt\n",
    "pmt = (9, 9)\n",
    "pred_pmt_distr = pred_rings[:, 9, 9]\n",
    "plt.hist(pred_pmt_distr, bins=20)\n",
    "\n",
    "val = np.arange(-0.3, 0.3, 0.01) + true_prob[pmt] / 255\n",
    "print(val)\n",
    "true_pmt_distr = np.exp(-(val - true_prob[pmt] / 255)**2 / 0.2**2) * 400\n",
    "plt.plot(val, true_pmt_distr)\n",
    "plt.show()"
   ]
  },
  {
   "cell_type": "code",
   "execution_count": null,
   "metadata": {},
   "outputs": [],
   "source": []
  }
 ],
 "metadata": {
  "kernelspec": {
   "display_name": "ImageGeneration",
   "language": "python",
   "name": "python3"
  },
  "language_info": {
   "codemirror_mode": {
    "name": "ipython",
    "version": 3
   },
   "file_extension": ".py",
   "mimetype": "text/x-python",
   "name": "python",
   "nbconvert_exporter": "python",
   "pygments_lexer": "ipython3",
   "version": "3.6.8"
  },
  "orig_nbformat": 4
 },
 "nbformat": 4,
 "nbformat_minor": 2
}
