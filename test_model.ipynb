{
 "cells": [
  {
   "cell_type": "code",
   "execution_count": 1,
   "metadata": {},
   "outputs": [
    {
     "name": "stderr",
     "output_type": "stream",
     "text": [
      "/home/J000000000007/envs/DGBaN/lib/python3.6/site-packages/tqdm/auto.py:22: TqdmWarning: IProgress not found. Please update jupyter and ipywidgets. See https://ipywidgets.readthedocs.io/en/stable/user_install.html\n",
      "  from .autonotebook import tqdm as notebook_tqdm\n"
     ]
    }
   ],
   "source": [
    "%load_ext autoreload\n",
    "%autoreload 2\n",
    "\n",
    "from tqdm import tqdm\n",
    "\n",
    "from PIL import Image\n",
    "\n",
    "import torch\n",
    "import torch.nn.functional as F\n",
    "\n",
    "import pandas as pd\n",
    "import numpy as np\n",
    "import matplotlib.pyplot as plt\n",
    "\n",
    "from datasets import ring_dataset, randomized_ring_dataset, energy_randomized_ring_dataset, pattern_randomized_ring_dataset\n",
    "from models import DGBaNR, big_DGBaNR"
   ]
  },
  {
   "attachments": {},
   "cell_type": "markdown",
   "metadata": {},
   "source": [
    "Load dataset:"
   ]
  },
  {
   "cell_type": "code",
   "execution_count": 79,
   "metadata": {},
   "outputs": [
    {
     "data": {
      "image/png": "[encoded data removed]",
      "text/plain": [
       "<Figure size 432x288 with 1 Axes>"
      ]
     },
     "metadata": {
      "needs_background": "light"
     },
     "output_type": "display_data"
    }
   ],
   "source": [
    "low, high, sig = -np.pi / 8, np.pi / 8, 0.3\n",
    "noise_distr = np.arange(low, high + 1e-6, (high - low) / 10)\n",
    "prob_distr = np.exp(-(noise_distr)**2 / sig**2)\n",
    "plt.plot(noise_distr, prob_distr)\n",
    "plt.show()"
   ]
  },
  {
   "cell_type": "code",
   "execution_count": 56,
   "metadata": {},
   "outputs": [],
   "source": [
    "data_gen = pattern_randomized_ring_dataset(N=32)\n",
    "features, imgs = data_gen.generate_dataset(data_size=100, seed=42, device='cpu', test_return=True)"
   ]
  },
  {
   "cell_type": "code",
   "execution_count": 72,
   "metadata": {},
   "outputs": [
    {
     "data": {
      "image/png": "[encoded data removed]",
      "text/plain": [
       "<PIL.Image.Image image mode=L size=32x32 at 0x7F4C43EA8DA0>"
      ]
     },
     "execution_count": 72,
     "metadata": {},
     "output_type": "execute_result"
    }
   ],
   "source": [
    "Image.fromarray((imgs[np.random.choice(100)] * 255).astype(np.uint8))"
   ]
  },
  {
   "cell_type": "code",
   "execution_count": 54,
   "metadata": {},
   "outputs": [
    {
     "data": {
      "image/png": "[encoded data removed]",
      "text/plain": [
       "<PIL.Image.Image image mode=L size=32x32 at 0x7F4C57821F28>"
      ]
     },
     "execution_count": 54,
     "metadata": {},
     "output_type": "execute_result"
    }
   ],
   "source": [
    "Image.fromarray((noise[5] * 255).astype(np.uint8))"
   ]
  },
  {
   "cell_type": "code",
   "execution_count": 6,
   "metadata": {},
   "outputs": [
    {
     "ename": "TypeError",
     "evalue": "gaussian_ring() missing 5 required positional arguments: 'center', 'mean', 'sig', 'theta', and 'phi'",
     "output_type": "error",
     "traceback": [
      "\u001b[0;31m---------------------------------------------------------------------------\u001b[0m",
      "\u001b[0;31mTypeError\u001b[0m                                 Traceback (most recent call last)",
      "\u001b[0;32m<ipython-input-6-3cd9ec70fa6f>\u001b[0m in \u001b[0;36m<module>\u001b[0;34m\u001b[0m\n\u001b[0;32m----> 1\u001b[0;31m \u001b[0mimg\u001b[0m \u001b[0;34m=\u001b[0m \u001b[0mdata_gen\u001b[0m\u001b[0;34m.\u001b[0m\u001b[0mgaussian_ring\u001b[0m\u001b[0;34m(\u001b[0m\u001b[0;36m100\u001b[0m\u001b[0;34m)\u001b[0m\u001b[0;34m[\u001b[0m\u001b[0;36m0\u001b[0m\u001b[0;34m]\u001b[0m\u001b[0;34m[\u001b[0m\u001b[0mnp\u001b[0m\u001b[0;34m.\u001b[0m\u001b[0mrandom\u001b[0m\u001b[0;34m.\u001b[0m\u001b[0mchoice\u001b[0m\u001b[0;34m(\u001b[0m\u001b[0;36m100\u001b[0m\u001b[0;34m)\u001b[0m\u001b[0;34m]\u001b[0m\u001b[0;34m\u001b[0m\u001b[0;34m\u001b[0m\u001b[0m\n\u001b[0m\u001b[1;32m      2\u001b[0m \u001b[0mprint\u001b[0m\u001b[0;34m(\u001b[0m\u001b[0mimg\u001b[0m\u001b[0;34m.\u001b[0m\u001b[0mmin\u001b[0m\u001b[0;34m(\u001b[0m\u001b[0;34m)\u001b[0m\u001b[0;34m,\u001b[0m \u001b[0mimg\u001b[0m\u001b[0;34m.\u001b[0m\u001b[0mmax\u001b[0m\u001b[0;34m(\u001b[0m\u001b[0;34m)\u001b[0m\u001b[0;34m)\u001b[0m\u001b[0;34m\u001b[0m\u001b[0;34m\u001b[0m\u001b[0m\n\u001b[1;32m      3\u001b[0m \u001b[0mImage\u001b[0m\u001b[0;34m.\u001b[0m\u001b[0mfromarray\u001b[0m\u001b[0;34m(\u001b[0m\u001b[0;34m(\u001b[0m\u001b[0;34m(\u001b[0m\u001b[0mimg\u001b[0m \u001b[0;34m-\u001b[0m \u001b[0mimg\u001b[0m\u001b[0;34m.\u001b[0m\u001b[0mmin\u001b[0m\u001b[0;34m(\u001b[0m\u001b[0;34m)\u001b[0m\u001b[0;34m)\u001b[0m \u001b[0;34m*\u001b[0m \u001b[0;36m255\u001b[0m \u001b[0;34m/\u001b[0m \u001b[0;34m(\u001b[0m\u001b[0mimg\u001b[0m\u001b[0;34m.\u001b[0m\u001b[0mmax\u001b[0m\u001b[0;34m(\u001b[0m\u001b[0;34m)\u001b[0m \u001b[0;34m-\u001b[0m \u001b[0mimg\u001b[0m\u001b[0;34m.\u001b[0m\u001b[0mmin\u001b[0m\u001b[0;34m(\u001b[0m\u001b[0;34m)\u001b[0m\u001b[0;34m)\u001b[0m\u001b[0;34m)\u001b[0m\u001b[0;34m.\u001b[0m\u001b[0mastype\u001b[0m\u001b[0;34m(\u001b[0m\u001b[0mnp\u001b[0m\u001b[0;34m.\u001b[0m\u001b[0muint8\u001b[0m\u001b[0;34m)\u001b[0m\u001b[0;34m)\u001b[0m\u001b[0;34m\u001b[0m\u001b[0;34m\u001b[0m\u001b[0m\n",
      "\u001b[0;31mTypeError\u001b[0m: gaussian_ring() missing 5 required positional arguments: 'center', 'mean', 'sig', 'theta', and 'phi'"
     ]
    }
   ],
   "source": [
    "img = data_gen.gaussian_ring(100)[0][np.random.choice(100)]\n",
    "print(img.min(), img.max())\n",
    "Image.fromarray(((img - img.min()) * 255 / (img.max() - img.min())).astype(np.uint8))"
   ]
  },
  {
   "cell_type": "code",
   "execution_count": 6,
   "metadata": {},
   "outputs": [
    {
     "data": {
      "image/png": "[encoded data removed]",
      "text/plain": [
       "<PIL.Image.Image image mode=L size=32x32 at 0x7F70594D90F0>"
      ]
     },
     "execution_count": 6,
     "metadata": {},
     "output_type": "execute_result"
    }
   ],
   "source": [
    "gaussian_ring, center, mean, sig = data_gen.gaussian_ring(1)\n",
    "gaussian_ring, center, mean, sig = gaussian_ring[0], center[0], mean[0], sig[0]\n",
    "\n",
    "features = torch.Tensor([[center[0], center[1], mean, sig, gaussian_ring.mean() * 32 * 32]])\n",
    "\n",
    "Image.fromarray((gaussian_ring.reshape((32, 32)) * 255).astype(np.uint8))"
   ]
  },
  {
   "attachments": {},
   "cell_type": "markdown",
   "metadata": {},
   "source": [
    "Test generator:"
   ]
  },
  {
   "cell_type": "code",
   "execution_count": 4,
   "metadata": {},
   "outputs": [
    {
     "name": "stdout",
     "output_type": "stream",
     "text": [
      "big_DGBaNR(\n",
      "  (linear1): LinearReparameterization()\n",
      "  (linear2): LinearReparameterization()\n",
      "  (conv1): ConvTranspose2dReparameterization()\n",
      "  (batch_norm1): BatchNorm2d(256, eps=1e-05, momentum=0.1, affine=True, track_running_stats=True)\n",
      "  (conv2): ConvTranspose2dReparameterization()\n",
      "  (batch_norm2): BatchNorm2d(128, eps=1e-05, momentum=0.1, affine=True, track_running_stats=True)\n",
      "  (conv3): ConvTranspose2dReparameterization()\n",
      ")\n",
      "Number of parameters: 9461762\n"
     ]
    }
   ],
   "source": [
    "# load generator\n",
    "generator = big_DGBaNR(data_gen.n_features, 32, 'sigmoid')\n",
    "generator.load_state_dict(torch.load('../save_model/big_DGBaNR_sigmoid_energy_random_1280000_32_Adam_mse_loss_5.pt', map_location=torch.device('cpu')))\n",
    "print(generator.eval())\n",
    "print('Number of parameters:', sum(p.numel() for p in generator.parameters()))"
   ]
  },
  {
   "cell_type": "code",
   "execution_count": 5,
   "metadata": {},
   "outputs": [],
   "source": [
    "# setting the base feature\n",
    "n_samples = 1000\n",
    "feature = data_gen.scaler.transform(np.array([[15, 15, 9.4, 3.6]]))\n",
    "features = [torch.Tensor(feature) for i in range(n_samples)]\n",
    "\n",
    "# getting the predictions for this feature\n",
    "pred_rings = np.zeros((n_samples, 32, 32))\n",
    "with torch.no_grad():\n",
    "    for i, tensor in enumerate(features):\n",
    "        pred_rings[i] += generator(tensor)[0].numpy().squeeze()\n",
    "pred_ring = pred_rings.sum(axis=0)\n",
    "\n",
    "# summing the predictions\n",
    "pred_prob = pred_ring * 255 / pred_ring.max()\n",
    "true_prob = data_gen.gaussian_from_features(15, 15, 9.4, 3.6) * 255"
   ]
  },
  {
   "cell_type": "code",
   "execution_count": 6,
   "metadata": {},
   "outputs": [
    {
     "data": {
      "image/png": "[encoded data removed]",
      "text/plain": [
       "<PIL.Image.Image image mode=L size=32x32 at 0x7F3BC41DCFD0>"
      ]
     },
     "execution_count": 6,
     "metadata": {},
     "output_type": "execute_result"
    }
   ],
   "source": [
    "# predicted gaussian ring\n",
    "Image.fromarray(pred_prob.astype(np.uint8))"
   ]
  },
  {
   "cell_type": "code",
   "execution_count": 7,
   "metadata": {},
   "outputs": [
    {
     "data": {
      "image/png": "[encoded data removed]",
      "text/plain": [
       "<PIL.Image.Image image mode=L size=32x32 at 0x7F3BC41DCE48>"
      ]
     },
     "execution_count": 7,
     "metadata": {},
     "output_type": "execute_result"
    }
   ],
   "source": [
    "# true gaussian ring\n",
    "Image.fromarray(true_prob.astype(np.uint8))"
   ]
  },
  {
   "cell_type": "code",
   "execution_count": 8,
   "metadata": {},
   "outputs": [
    {
     "data": {
      "image/png": "[encoded data removed]",
      "text/plain": [
       "<PIL.Image.Image image mode=L size=32x32 at 0x7F3BC4161E10>"
      ]
     },
     "execution_count": 8,
     "metadata": {},
     "output_type": "execute_result"
    }
   ],
   "source": [
    "# difference between the rings\n",
    "Image.fromarray(np.abs(true_prob - pred_prob).astype(np.uint8))"
   ]
  },
  {
   "cell_type": "code",
   "execution_count": 9,
   "metadata": {},
   "outputs": [
    {
     "data": {
      "text/plain": [
       "0.0016992841367840816"
      ]
     },
     "execution_count": 9,
     "metadata": {},
     "output_type": "execute_result"
    }
   ],
   "source": [
    "# MSE error\n",
    "((pred_prob / pred_prob.max() - true_prob / true_prob.max())**2).mean()"
   ]
  },
  {
   "cell_type": "code",
   "execution_count": 19,
   "metadata": {},
   "outputs": [
    {
     "data": {
      "image/png": "[encoded data removed]",
      "text/plain": [
       "<PIL.Image.Image image mode=L size=32x32 at 0x7F3BC4177B38>"
      ]
     },
     "execution_count": 19,
     "metadata": {},
     "output_type": "execute_result"
    }
   ],
   "source": [
    "output = generator(features[0])[0].detach().numpy().squeeze()\n",
    "Image.fromarray((output * 255 / output.max()).astype(np.uint8()))"
   ]
  },
  {
   "cell_type": "code",
   "execution_count": 114,
   "metadata": {},
   "outputs": [
    {
     "data": {
      "text/plain": [
       "array([0.  , 0.05, 0.1 , 0.15, 0.2 , 0.25, 0.3 , 0.35, 0.4 , 0.45, 0.5 ,\n",
       "       0.55, 0.6 , 0.65, 0.7 , 0.75, 0.8 , 0.85, 0.9 , 0.95, 1.  ])"
      ]
     },
     "execution_count": 114,
     "metadata": {},
     "output_type": "execute_result"
    }
   ],
   "source": [
    "np.arange(0, 1.01, 0.05)"
   ]
  },
  {
   "cell_type": "code",
   "execution_count": 125,
   "metadata": {},
   "outputs": [
    {
     "data": {
      "text/plain": [
       "0      0.605736\n",
       "1      0.581421\n",
       "2      0.703866\n",
       "3      0.295628\n",
       "4      0.686699\n",
       "         ...   \n",
       "995    0.806955\n",
       "996    0.534343\n",
       "997    0.554463\n",
       "998    0.657776\n",
       "999    0.622060\n",
       "Length: 1000, dtype: float64"
      ]
     },
     "execution_count": 125,
     "metadata": {},
     "output_type": "execute_result"
    }
   ],
   "source": [
    "pred"
   ]
  },
  {
   "cell_type": "code",
   "execution_count": 159,
   "metadata": {},
   "outputs": [
    {
     "data": {
      "text/plain": [
       "(0.0, 0.05]    0.000000\n",
       "(0.05, 0.1]    0.038835\n",
       "(0.1, 0.15]    0.038835\n",
       "(0.15, 0.2]    0.038835\n",
       "(0.2, 0.25]    0.087379\n",
       "(0.25, 0.3]    0.242718\n",
       "(0.3, 0.35]    0.330097\n",
       "(0.35, 0.4]    0.446602\n",
       "(0.4, 0.45]    0.563107\n",
       "(0.45, 0.5]    0.563107\n",
       "(0.5, 0.55]    0.786408\n",
       "(0.55, 0.6]    0.912621\n",
       "(0.6, 0.65]    1.000000\n",
       "(0.65, 0.7]    0.961165\n",
       "(0.7, 0.75]    0.951456\n",
       "(0.75, 0.8]    0.932039\n",
       "(0.8, 0.85]    0.980583\n",
       "(0.85, 0.9]    0.553398\n",
       "(0.9, 0.95]    0.252427\n",
       "(0.95, 1.0]    0.029126\n",
       "dtype: float64"
      ]
     },
     "execution_count": 159,
     "metadata": {},
     "output_type": "execute_result"
    }
   ],
   "source": [
    "pred_noise"
   ]
  },
  {
   "cell_type": "code",
   "execution_count": 21,
   "metadata": {},
   "outputs": [
    {
     "data": {
      "image/png": "[encoded data removed]",
      "text/plain": [
       "<Figure size 432x288 with 1 Axes>"
      ]
     },
     "metadata": {
      "needs_background": "light"
     },
     "output_type": "display_data"
    }
   ],
   "source": [
    "# getting the distribution for one pmt\n",
    "pmt = (7, 7)\n",
    "pred = pd.Series(pred_rings[:, 7, 7])\n",
    "hist = pd.Series(1, index=pd.cut(pred, np.arange(0, 1.01, 0.1))).sort_index().groupby(level=0).sum()\n",
    "pred_noise = hist / (hist.sum() * 0.1)\n",
    "\n",
    "plt.plot(np.arange(0.05, 0.96, 0.1), pred_noise)\n",
    "\n",
    "val = np.arange(-0.3, 0.3, 0.01) + true_prob[pmt] / 255\n",
    "true_pmt_distr = np.exp(-(val - true_prob[pmt] / 255)**2 / 0.2**2)\n",
    "true_pmt_distr /= true_pmt_distr.sum() * 0.01\n",
    "plt.plot(val, true_pmt_distr)\n",
    "plt.show()"
   ]
  }
 ],
 "metadata": {
  "kernelspec": {
   "display_name": "ImageGeneration",
   "language": "python",
   "name": "python3"
  },
  "language_info": {
   "codemirror_mode": {
    "name": "ipython",
    "version": 3
   },
   "file_extension": ".py",
   "mimetype": "text/x-python",
   "name": "python",
   "nbconvert_exporter": "python",
   "pygments_lexer": "ipython3",
   "version": "3.6.8"
  },
  "orig_nbformat": 4
 },
 "nbformat": 4,
 "nbformat_minor": 2
}
