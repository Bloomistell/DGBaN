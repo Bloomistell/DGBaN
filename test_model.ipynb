{
 "cells": [
  {
   "cell_type": "code",
   "execution_count": 1,
   "metadata": {},
   "outputs": [],
   "source": [
    "%load_ext autoreload\n",
    "%autoreload 2\n",
    "\n",
    "from tqdm import tqdm\n",
    "\n",
    "from PIL import Image\n",
    "\n",
    "import torch\n",
    "from torch import nn\n",
    "import torch.nn.functional as F\n",
    "\n",
    "import pandas as pd\n",
    "import numpy as np\n",
    "import matplotlib.pyplot as plt\n",
    "\n",
    "from datasets import *\n",
    "from models import *\n",
    "from utils import *\n",
    "\n",
    "# torch._dynamo.config.suppress_errors = True"
   ]
  },
  {
   "attachments": {},
   "cell_type": "markdown",
   "metadata": {},
   "source": [
    "Load dataset:"
   ]
  },
  {
   "cell_type": "code",
   "execution_count": 2,
   "metadata": {},
   "outputs": [],
   "source": [
    "data_size = 640_000\n",
    "data_gen = single_random_ring(N=32)\n",
    "X, y = data_gen.generate_dataset(data_size=data_size, noise=True, sigma=0.3, features_degree=2, seed=42, device='cpu', test_return=False)"
   ]
  },
  {
   "cell_type": "code",
   "execution_count": 3,
   "metadata": {},
   "outputs": [
    {
     "data": {
      "text/plain": [
       "array({'mse_loss': {'mean': 0.0016764217108331469, 'std': 0.0004876350105017993}, 'l1_loss': {'mean': 0.012554265490582174, 'std': 0.0032859555537835604}},\n",
       "      dtype=object)"
      ]
     },
     "execution_count": 3,
     "metadata": {},
     "output_type": "execute_result"
    }
   ],
   "source": [
    "data_gen.noise_delta"
   ]
  },
  {
   "cell_type": "code",
   "execution_count": 4,
   "metadata": {},
   "outputs": [
    {
     "name": "stdout",
     "output_type": "stream",
     "text": [
      "[[15.         11.          8.16        1.01        3.33794219  0.255     ]\n",
      " [ 9.         17.          8.04        0.94        5.18362788  0.375     ]\n",
      " [11.         19.          7.74        1.49        3.41648201  0.165     ]\n",
      " ...\n",
      " [19.         11.          6.63        1.35        0.51050881  0.165     ]\n",
      " [10.          8.          7.41        1.33        3.61283155  0.175     ]\n",
      " [20.         23.          7.89        1.02        5.81194641  0.39      ]]\n",
      "[[0.         0.46666667 0.2        ... 0.28578775 0.27539546 0.26538108]\n",
      " [0.         0.06666667 0.6        ... 0.68921324 0.62893082 0.57392103]\n",
      " [0.         0.2        0.73333333 ... 0.2993948  0.18238994 0.11111111]\n",
      " ...\n",
      " [0.         0.73333333 0.2        ... 0.00668486 0.02725367 0.11111111]\n",
      " [0.         0.13333333 0.         ... 0.33479688 0.20456134 0.12498725]\n",
      " [0.         0.8        1.         ... 0.86642142 0.73337145 0.62075298]]\n"
     ]
    },
    {
     "data": {
      "image/png": "[encoded data removed]",
      "text/plain": [
       "<PIL.Image.Image image mode=L size=32x32>"
      ]
     },
     "execution_count": 4,
     "metadata": {},
     "output_type": "execute_result"
    }
   ],
   "source": [
    "features, transformed_features, imgs = data_gen.random_sample(256)\n",
    "print(features)\n",
    "print(transformed_features)\n",
    "Image.fromarray((imgs[0] * 255 / imgs[0].max()).astype(np.uint8))"
   ]
  },
  {
   "attachments": {},
   "cell_type": "markdown",
   "metadata": {},
   "source": [
    "Test generator:"
   ]
  },
  {
   "cell_type": "code",
   "execution_count": 31,
   "metadata": {},
   "outputs": [
    {
     "name": "stdout",
     "output_type": "stream",
     "text": [
      "DGBaNConv17(\n",
      "  (linear_layers): LinearNormAct(\n",
      "    (linear_act): ModuleList(\n",
      "      (0): LinearReparameterization()\n",
      "      (1): ReLU()\n",
      "      (2): LinearReparameterization()\n",
      "      (3): ReLU()\n",
      "      (4): LinearReparameterization()\n",
      "      (5): ReLU()\n",
      "      (6): LinearReparameterization()\n",
      "      (7): ReLU()\n",
      "      (8): LinearReparameterization()\n",
      "      (9): ReLU()\n",
      "    )\n",
      "  )\n",
      "  (conv_layers): BayesSequential(\n",
      "    (bayes_modules): ModuleList(\n",
      "      (0): BottleNeck(\n",
      "        (block): ResidualAdd(\n",
      "          (block): BayesSequential(\n",
      "            (bayes_modules): ModuleList(\n",
      "              (0-1): 2 x ConvNormAct(\n",
      "                (conv): ConvTranspose2dReparameterization()\n",
      "                (norm_act): Sequential(\n",
      "                  (0): BatchNorm2d(64, eps=1e-05, momentum=0.1, affine=True, track_running_stats=True)\n",
      "                  (1): ReLU()\n",
      "                )\n",
      "              )\n",
      "              (2): ConvNormAct(\n",
      "                (conv): ConvTranspose2dReparameterization()\n",
      "                (norm_act): Sequential(\n",
      "                  (0): BatchNorm2d(256, eps=1e-05, momentum=0.1, affine=True, track_running_stats=True)\n",
      "                  (1): Identity()\n",
      "                )\n",
      "              )\n",
      "            )\n",
      "          )\n",
      "        )\n",
      "      )\n",
      "      (1): Conv2x3x3NormAct(\n",
      "        (block): ResidualAdd(\n",
      "          (block): BayesSequential(\n",
      "            (bayes_modules): ModuleList(\n",
      "              (0): ConvNormAct(\n",
      "                (conv): ConvTranspose2dReparameterization()\n",
      "                (norm_act): Sequential(\n",
      "                  (0): BatchNorm2d(256, eps=1e-05, momentum=0.1, affine=True, track_running_stats=True)\n",
      "                  (1): ReLU()\n",
      "                )\n",
      "              )\n",
      "              (1): ConvNormAct(\n",
      "                (conv): ConvTranspose2dReparameterization()\n",
      "                (norm_act): Sequential(\n",
      "                  (0): BatchNorm2d(128, eps=1e-05, momentum=0.1, affine=True, track_running_stats=True)\n",
      "                  (1): Identity()\n",
      "                )\n",
      "              )\n",
      "            )\n",
      "          )\n",
      "          (shortcut): ConvNormAct(\n",
      "            (conv): ConvTranspose2dReparameterization()\n",
      "            (norm_act): Sequential(\n",
      "              (0): BatchNorm2d(128, eps=1e-05, momentum=0.1, affine=True, track_running_stats=True)\n",
      "              (1): ReLU()\n",
      "            )\n",
      "          )\n",
      "        )\n",
      "      )\n",
      "      (2): ResidualAdd(\n",
      "        (block): BayesSequential(\n",
      "          (bayes_modules): ModuleList(\n",
      "            (0): ScaleUp(\n",
      "              (conv_t): ConvTranspose2dReparameterization()\n",
      "            )\n",
      "            (1): ConvNormAct(\n",
      "              (conv): ConvTranspose2dReparameterization()\n",
      "              (norm_act): Sequential(\n",
      "                (0): BatchNorm2d(128, eps=1e-05, momentum=0.1, affine=True, track_running_stats=True)\n",
      "                (1): ReLU()\n",
      "              )\n",
      "            )\n",
      "          )\n",
      "        )\n",
      "        (shortcut): ConvNormAct(\n",
      "          (conv): ConvTranspose2dReparameterization()\n",
      "          (norm_act): Sequential(\n",
      "            (0): BatchNorm2d(128, eps=1e-05, momentum=0.1, affine=True, track_running_stats=True)\n",
      "            (1): ReLU()\n",
      "          )\n",
      "        )\n",
      "      )\n",
      "      (3): Conv2x3x3NormAct(\n",
      "        (block): ResidualAdd(\n",
      "          (block): BayesSequential(\n",
      "            (bayes_modules): ModuleList(\n",
      "              (0): ConvNormAct(\n",
      "                (conv): ConvTranspose2dReparameterization()\n",
      "                (norm_act): Sequential(\n",
      "                  (0): BatchNorm2d(128, eps=1e-05, momentum=0.1, affine=True, track_running_stats=True)\n",
      "                  (1): ReLU()\n",
      "                )\n",
      "              )\n",
      "              (1): ConvNormAct(\n",
      "                (conv): ConvTranspose2dReparameterization()\n",
      "                (norm_act): Sequential(\n",
      "                  (0): BatchNorm2d(64, eps=1e-05, momentum=0.1, affine=True, track_running_stats=True)\n",
      "                  (1): Identity()\n",
      "                )\n",
      "              )\n",
      "            )\n",
      "          )\n",
      "          (shortcut): ConvNormAct(\n",
      "            (conv): ConvTranspose2dReparameterization()\n",
      "            (norm_act): Sequential(\n",
      "              (0): BatchNorm2d(64, eps=1e-05, momentum=0.1, affine=True, track_running_stats=True)\n",
      "              (1): ReLU()\n",
      "            )\n",
      "          )\n",
      "        )\n",
      "      )\n",
      "      (4): ResidualAdd(\n",
      "        (block): BayesSequential(\n",
      "          (bayes_modules): ModuleList(\n",
      "            (0): ScaleUp(\n",
      "              (conv_t): ConvTranspose2dReparameterization()\n",
      "            )\n",
      "            (1): ConvNormAct(\n",
      "              (conv): ConvTranspose2dReparameterization()\n",
      "              (norm_act): Sequential(\n",
      "                (0): BatchNorm2d(64, eps=1e-05, momentum=0.1, affine=True, track_running_stats=True)\n",
      "                (1): ReLU()\n",
      "              )\n",
      "            )\n",
      "          )\n",
      "        )\n",
      "        (shortcut): ConvNormAct(\n",
      "          (conv): ConvTranspose2dReparameterization()\n",
      "          (norm_act): Sequential(\n",
      "            (0): BatchNorm2d(64, eps=1e-05, momentum=0.1, affine=True, track_running_stats=True)\n",
      "            (1): ReLU()\n",
      "          )\n",
      "        )\n",
      "      )\n",
      "      (5): Conv2x3x3NormAct(\n",
      "        (block): ResidualAdd(\n",
      "          (block): BayesSequential(\n",
      "            (bayes_modules): ModuleList(\n",
      "              (0): ConvNormAct(\n",
      "                (conv): ConvTranspose2dReparameterization()\n",
      "                (norm_act): Sequential(\n",
      "                  (0): BatchNorm2d(64, eps=1e-05, momentum=0.1, affine=True, track_running_stats=True)\n",
      "                  (1): ReLU()\n",
      "                )\n",
      "              )\n",
      "              (1): ConvNormAct(\n",
      "                (conv): ConvTranspose2dReparameterization()\n",
      "                (norm_act): Sequential(\n",
      "                  (0): BatchNorm2d(32, eps=1e-05, momentum=0.1, affine=True, track_running_stats=True)\n",
      "                  (1): Identity()\n",
      "                )\n",
      "              )\n",
      "            )\n",
      "          )\n",
      "          (shortcut): ConvNormAct(\n",
      "            (conv): ConvTranspose2dReparameterization()\n",
      "            (norm_act): Sequential(\n",
      "              (0): BatchNorm2d(32, eps=1e-05, momentum=0.1, affine=True, track_running_stats=True)\n",
      "              (1): ReLU()\n",
      "            )\n",
      "          )\n",
      "        )\n",
      "      )\n",
      "      (6): ResidualAdd(\n",
      "        (block): BayesSequential(\n",
      "          (bayes_modules): ModuleList(\n",
      "            (0): ScaleUp(\n",
      "              (conv_t): ConvTranspose2dReparameterization()\n",
      "            )\n",
      "            (1): ConvNormAct(\n",
      "              (conv): ConvTranspose2dReparameterization()\n",
      "              (norm_act): Sequential(\n",
      "                (0): BatchNorm2d(32, eps=1e-05, momentum=0.1, affine=True, track_running_stats=True)\n",
      "                (1): ReLU()\n",
      "              )\n",
      "            )\n",
      "          )\n",
      "        )\n",
      "        (shortcut): ConvNormAct(\n",
      "          (conv): ConvTranspose2dReparameterization()\n",
      "          (norm_act): Sequential(\n",
      "            (0): BatchNorm2d(32, eps=1e-05, momentum=0.1, affine=True, track_running_stats=True)\n",
      "            (1): ReLU()\n",
      "          )\n",
      "        )\n",
      "      )\n",
      "      (7): Conv2x3x3NormAct(\n",
      "        (block): ResidualAdd(\n",
      "          (block): BayesSequential(\n",
      "            (bayes_modules): ModuleList(\n",
      "              (0): ConvNormAct(\n",
      "                (conv): ConvTranspose2dReparameterization()\n",
      "                (norm_act): Sequential(\n",
      "                  (0): BatchNorm2d(32, eps=1e-05, momentum=0.1, affine=True, track_running_stats=True)\n",
      "                  (1): ReLU()\n",
      "                )\n",
      "              )\n",
      "              (1): ConvNormAct(\n",
      "                (conv): ConvTranspose2dReparameterization()\n",
      "                (norm_act): Sequential(\n",
      "                  (0): BatchNorm2d(16, eps=1e-05, momentum=0.1, affine=True, track_running_stats=True)\n",
      "                  (1): Identity()\n",
      "                )\n",
      "              )\n",
      "            )\n",
      "          )\n",
      "          (shortcut): ConvNormAct(\n",
      "            (conv): ConvTranspose2dReparameterization()\n",
      "            (norm_act): Sequential(\n",
      "              (0): BatchNorm2d(16, eps=1e-05, momentum=0.1, affine=True, track_running_stats=True)\n",
      "              (1): ReLU()\n",
      "            )\n",
      "          )\n",
      "        )\n",
      "      )\n",
      "      (8): LastConv(\n",
      "        (conv_t): ConvTranspose2dReparameterization()\n",
      "      )\n",
      "    )\n",
      "  )\n",
      ")\n",
      "Number of parameters: 4,357,505\n"
     ]
    }
   ],
   "source": [
    "# load generator\n",
    "generator = DGBaNConv17()\n",
    "# generator = torch.compile(generator)\n",
    "\n",
    "pre_trained_weights = torch.load(\n",
    "    '../save_data/single_random_ring/Adam_mse_loss_0/DGBaNConv17_no_activation_function/DGBaNConv17_no_activation_function_6.pt',\n",
    "    map_location=torch.device('cpu')\n",
    ")\n",
    "generator.load_state_dict(pre_trained_weights)\n",
    "\n",
    "print(generator.eval())\n",
    "print(f'Number of parameters: {count_params(generator):,}')"
   ]
  },
  {
   "cell_type": "code",
   "execution_count": 32,
   "metadata": {},
   "outputs": [
    {
     "name": "stdout",
     "output_type": "stream",
     "text": [
      "0.0007884204997063367\n",
      "0.011642989691524094\n",
      "0.00393386213114001\n"
     ]
    }
   ],
   "source": [
    "mse_loss = []\n",
    "l1_loss = []\n",
    "AbsMeanDelta = []\n",
    "for i in range(1):\n",
    "    y_pred = generator(torch.Tensor(transformed_features[:1]))[0].detach().numpy().squeeze()\n",
    "    mse_loss.append(((y_pred - imgs[0])**2).mean())\n",
    "    l1_loss.append(abs(y_pred - imgs[0]).mean())\n",
    "    AbsMeanDelta.append(abs((y_pred - imgs[0]).mean()))\n",
    "\n",
    "print(np.mean(mse_loss))\n",
    "print(np.mean(l1_loss))\n",
    "print(np.mean(AbsMeanDelta))"
   ]
  },
  {
   "cell_type": "code",
   "execution_count": 33,
   "metadata": {},
   "outputs": [],
   "source": [
    "# setting the base feature\n",
    "n_samples = 100\n",
    "\n",
    "# getting the predictions for this feature\n",
    "pred_rings = np.zeros((n_samples, 32, 32))\n",
    "with torch.no_grad():\n",
    "    for j in range(n_samples):\n",
    "        pred_rings[j] += generator(torch.Tensor(transformed_features[:1]))[0].detach().numpy().squeeze()\n",
    "pred_ring = pred_rings.mean(axis=0)\n",
    "\n",
    "# summing the predictions\n",
    "pred_prob = pred_ring * 255\n",
    "true_prob = data_gen.ring_from_features(*features[0]) * 255 / 2"
   ]
  },
  {
   "cell_type": "code",
   "execution_count": 34,
   "metadata": {},
   "outputs": [
    {
     "data": {
      "image/png": "[encoded data removed]",
      "text/plain": [
       "<PIL.Image.Image image mode=L size=32x32>"
      ]
     },
     "execution_count": 34,
     "metadata": {},
     "output_type": "execute_result"
    }
   ],
   "source": [
    "# predicted gaussian ring\n",
    "Image.fromarray(abs(pred_prob).astype(np.uint8))"
   ]
  },
  {
   "cell_type": "code",
   "execution_count": 35,
   "metadata": {},
   "outputs": [
    {
     "data": {
      "image/png": "[encoded data removed]",
      "text/plain": [
       "<PIL.Image.Image image mode=L size=32x32>"
      ]
     },
     "execution_count": 35,
     "metadata": {},
     "output_type": "execute_result"
    }
   ],
   "source": [
    "# true gaussian ring\n",
    "Image.fromarray(true_prob.astype(np.uint8))"
   ]
  },
  {
   "cell_type": "code",
   "execution_count": 36,
   "metadata": {},
   "outputs": [
    {
     "data": {
      "image/png": "[encoded data removed]",
      "text/plain": [
       "<PIL.Image.Image image mode=L size=32x32>"
      ]
     },
     "execution_count": 36,
     "metadata": {},
     "output_type": "execute_result"
    }
   ],
   "source": [
    "# difference between the rings\n",
    "Image.fromarray(np.abs(true_prob - pred_prob).astype(np.uint8))"
   ]
  },
  {
   "cell_type": "code",
   "execution_count": 37,
   "metadata": {},
   "outputs": [
    {
     "data": {
      "text/plain": [
       "0.00011788586237298704"
      ]
     },
     "execution_count": 37,
     "metadata": {},
     "output_type": "execute_result"
    }
   ],
   "source": [
    "# MSE error\n",
    "((pred_prob / pred_prob.max() - true_prob / true_prob.max())**2).mean()"
   ]
  },
  {
   "cell_type": "code",
   "execution_count": 60,
   "metadata": {},
   "outputs": [
    {
     "name": "stdout",
     "output_type": "stream",
     "text": [
      "(22, 19)\n"
     ]
    },
    {
     "data": {
      "image/png": "[encoded data removed]",
      "text/plain": [
       "<Figure size 640x480 with 1 Axes>"
      ]
     },
     "metadata": {},
     "output_type": "display_data"
    }
   ],
   "source": [
    "# getting the distribution for one pmt\n",
    "pmt = (0, 0)\n",
    "while true_prob[pmt] < 0.4 * 255:\n",
    "    pmt = (np.random.randint(32), np.random.randint(32))\n",
    "print(pmt)\n",
    "\n",
    "hist_width = 0.05\n",
    "pred = pd.Series(pred_rings[:, pmt[0], pmt[1]])\n",
    "hist = pd.Series(1, index=pd.cut(pred, np.arange(0, 1.01, hist_width))).sort_index().groupby(level=0).sum()\n",
    "pred_noise = hist / (hist.sum() * hist_width)\n",
    "\n",
    "plt.plot(np.arange(0, 1, hist_width), pred_noise)\n",
    "\n",
    "val = np.arange(0, 2.01, hist_width) * true_prob[pmt] / 255\n",
    "true_pmt_distr = np.exp(-(val - true_prob[pmt] / 255)**2 / 0.3**2)\n",
    "true_pmt_distr /= true_pmt_distr.sum() * hist_width * true_prob[pmt] / 255\n",
    "plt.plot(val, true_pmt_distr)\n",
    "plt.show()"
   ]
  },
  {
   "cell_type": "code",
   "execution_count": null,
   "metadata": {},
   "outputs": [],
   "source": []
  }
 ],
 "metadata": {
  "kernelspec": {
   "display_name": "ImageGeneration",
   "language": "python",
   "name": "python3"
  },
  "language_info": {
   "codemirror_mode": {
    "name": "ipython",
    "version": 3
   },
   "file_extension": ".py",
   "mimetype": "text/x-python",
   "name": "python",
   "nbconvert_exporter": "python",
   "pygments_lexer": "ipython3",
   "version": "3.10.11"
  },
  "orig_nbformat": 4
 },
 "nbformat": 4,
 "nbformat_minor": 2
}
