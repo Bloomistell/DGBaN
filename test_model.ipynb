{
 "cells": [
  {
   "cell_type": "code",
   "execution_count": 26,
   "metadata": {},
   "outputs": [
    {
     "name": "stdout",
     "output_type": "stream",
     "text": [
      "The autoreload extension is already loaded. To reload it, use:\n",
      "  %reload_ext autoreload\n"
     ]
    }
   ],
   "source": [
    "%load_ext autoreload\n",
    "%autoreload 2\n",
    "\n",
    "from tqdm import tqdm\n",
    "\n",
    "from PIL import Image\n",
    "\n",
    "import torch\n",
    "from torch import nn\n",
    "import torch.nn.functional as F\n",
    "\n",
    "import pandas as pd\n",
    "import numpy as np\n",
    "import matplotlib.pyplot as plt\n",
    "\n",
    "from datasets import *\n",
    "from models import *\n",
    "from utils import *\n",
    "\n",
    "# torch._dynamo.config.suppress_errors = True"
   ]
  },
  {
   "attachments": {},
   "cell_type": "markdown",
   "metadata": {},
   "source": [
    "Load dataset:"
   ]
  },
  {
   "cell_type": "code",
   "execution_count": 27,
   "metadata": {},
   "outputs": [
    {
     "data": {
      "text/plain": [
       "{'mse_loss': {'mean': 0.003376128152012825, 'std': 0.0009832163341343403},\n",
       " 'l1_loss': {'mean': 0.01787707582116127, 'std': 0.00468863220885396}}"
      ]
     },
     "execution_count": 27,
     "metadata": {},
     "output_type": "execute_result"
    }
   ],
   "source": [
    "data_size = 1_000_000\n",
    "data_gen = SingleRandomRing(N=32)\n",
    "X, y = data_gen.generate_dataset(data_size=data_size, noise=True, sigma=0.3, features_degree=2, seed=42, device='cpu', test_return=True)\n",
    "data_gen.noise_delta"
   ]
  },
  {
   "cell_type": "code",
   "execution_count": 28,
   "metadata": {},
   "outputs": [
    {
     "name": "stdout",
     "output_type": "stream",
     "text": [
      "[[1.5000000e+01 1.5000000e+01 8.3876591e+00 1.4315487e+00 3.1674621e+00\n",
      "  3.3191517e-01]\n",
      " [1.4000000e+01 1.4000000e+01 6.1373792e+00 8.7404770e-01 5.5926185e+00\n",
      "  3.6356446e-01]\n",
      " [1.3000000e+01 1.3000000e+01 6.9882064e+00 1.2194709e+00 3.2033725e+00\n",
      "  1.5067139e-01]\n",
      " ...\n",
      " [1.0000000e+01 1.4000000e+01 6.4280725e+00 1.5940459e+00 3.2714841e+00\n",
      "  2.5851130e-03]\n",
      " [8.0000000e+00 1.5000000e+01 8.6333265e+00 1.1703691e+00 1.9037338e+00\n",
      "  5.9980094e-02]\n",
      " [8.0000000e+00 1.3000000e+01 7.0250688e+00 1.3734868e+00 5.5027456e+00\n",
      "  4.4630238e-01]]\n",
      "[[0.00000000e+00 1.00000000e+00 1.00000000e+00 ... 2.54135038e-01\n",
      "  3.35293582e-01 4.40674397e-01]\n",
      " [0.00000000e+00 8.57142857e-01 8.57142857e-01 ... 7.92267925e-01\n",
      "  6.48460237e-01 5.28720883e-01]\n",
      " [0.00000000e+00 7.14285714e-01 7.14285714e-01 ... 2.59930097e-01\n",
      "  1.53930575e-01 9.08082320e-02]\n",
      " ...\n",
      " [0.00000000e+00 2.85714286e-01 8.57142857e-01 ... 2.71101129e-01\n",
      "  2.69714787e-03 2.67314571e-05]\n",
      " [0.00000000e+00 0.00000000e+00 1.00000000e+00 ... 9.18024250e-02\n",
      "  3.64166227e-02 1.43905670e-02]\n",
      " [0.00000000e+00 0.00000000e+00 7.14285714e-01 ... 7.67009184e-01\n",
      "  7.83240946e-01 7.96749921e-01]]\n"
     ]
    },
    {
     "data": {
      "image/png": "[encoded data removed]",
      "text/plain": [
       "<PIL.Image.Image image mode=L size=32x32>"
      ]
     },
     "execution_count": 28,
     "metadata": {},
     "output_type": "execute_result"
    }
   ],
   "source": [
    "features, transformed_features, imgs = data_gen.random_sample(256)\n",
    "print(features)\n",
    "print(transformed_features)\n",
    "Image.fromarray((imgs[0].reshape((32, 32)) * 255 / imgs[0].max()).astype(np.uint8))"
   ]
  },
  {
   "attachments": {},
   "cell_type": "markdown",
   "metadata": {},
   "source": [
    "Test generator:"
   ]
  },
  {
   "cell_type": "code",
   "execution_count": 122,
   "metadata": {},
   "outputs": [
    {
     "name": "stdout",
     "output_type": "stream",
     "text": [
      "HalfDGBaNConv17(\n",
      "  (linear_1): LinearReparameterization()\n",
      "  (linear_2): LinearReparameterization()\n",
      "  (linear_3): LinearReparameterization()\n",
      "  (linear_4): LinearReparameterization()\n",
      "  (linear_5): LinearReparameterization()\n",
      "  (linear_6): Linear(in_features=896, out_features=1024, bias=True)\n",
      "  (conv_layers): Sequential(\n",
      "    (0): BottleNeck(\n",
      "      (0): Sequential(\n",
      "        (0): ResidualAdd(\n",
      "          (block): Sequential(\n",
      "            (0): ConvNormAct(\n",
      "              (0): ConvTranspose2d(256, 64, kernel_size=(1, 1), stride=(1, 1))\n",
      "              (1): BatchNorm2d(64, eps=1e-05, momentum=0.1, affine=True, track_running_stats=True)\n",
      "              (2): ReLU()\n",
      "            )\n",
      "            (1): ConvNormAct(\n",
      "              (0): ConvTranspose2d(64, 64, kernel_size=(3, 3), stride=(1, 1), padding=(1, 1))\n",
      "              (1): BatchNorm2d(64, eps=1e-05, momentum=0.1, affine=True, track_running_stats=True)\n",
      "              (2): ReLU()\n",
      "            )\n",
      "            (2): ConvNormAct(\n",
      "              (0): ConvTranspose2d(64, 256, kernel_size=(1, 1), stride=(1, 1))\n",
      "              (1): BatchNorm2d(256, eps=1e-05, momentum=0.1, affine=True, track_running_stats=True)\n",
      "              (2): Identity()\n",
      "            )\n",
      "          )\n",
      "        )\n",
      "        (1): ReLU()\n",
      "      )\n",
      "    )\n",
      "    (1): Conv2x3x3NormAct(\n",
      "      (0): Sequential(\n",
      "        (0): ResidualAdd(\n",
      "          (block): Sequential(\n",
      "            (0): ConvNormAct(\n",
      "              (0): ConvTranspose2d(256, 256, kernel_size=(3, 3), stride=(1, 1), padding=(1, 1))\n",
      "              (1): BatchNorm2d(256, eps=1e-05, momentum=0.1, affine=True, track_running_stats=True)\n",
      "              (2): ReLU()\n",
      "            )\n",
      "            (1): ConvNormAct(\n",
      "              (0): ConvTranspose2d(256, 128, kernel_size=(3, 3), stride=(1, 1), padding=(1, 1))\n",
      "              (1): BatchNorm2d(128, eps=1e-05, momentum=0.1, affine=True, track_running_stats=True)\n",
      "              (2): Identity()\n",
      "            )\n",
      "          )\n",
      "          (shortcut): ConvNormAct(\n",
      "            (0): ConvTranspose2d(256, 128, kernel_size=(1, 1), stride=(1, 1))\n",
      "            (1): BatchNorm2d(128, eps=1e-05, momentum=0.1, affine=True, track_running_stats=True)\n",
      "            (2): ReLU()\n",
      "          )\n",
      "        )\n",
      "        (1): ReLU()\n",
      "      )\n",
      "    )\n",
      "    (2): ResidualAdd(\n",
      "      (block): Sequential(\n",
      "        (0): ScaleUp(\n",
      "          (conv_t): ConvTranspose2d(128, 128, kernel_size=(1, 1), stride=(2, 2), groups=128, bias=False)\n",
      "        )\n",
      "        (1): ConvNormAct(\n",
      "          (0): ConvTranspose2d(128, 128, kernel_size=(3, 3), stride=(1, 1), padding=(1, 1))\n",
      "          (1): BatchNorm2d(128, eps=1e-05, momentum=0.1, affine=True, track_running_stats=True)\n",
      "          (2): ReLU()\n",
      "        )\n",
      "      )\n",
      "      (shortcut): ConvNormAct(\n",
      "        (0): ConvTranspose2d(128, 128, kernel_size=(1, 1), stride=(2, 2), output_padding=(1, 1))\n",
      "        (1): BatchNorm2d(128, eps=1e-05, momentum=0.1, affine=True, track_running_stats=True)\n",
      "        (2): ReLU()\n",
      "      )\n",
      "    )\n",
      "    (3): Conv2x3x3NormAct(\n",
      "      (0): Sequential(\n",
      "        (0): ResidualAdd(\n",
      "          (block): Sequential(\n",
      "            (0): ConvNormAct(\n",
      "              (0): ConvTranspose2d(128, 128, kernel_size=(3, 3), stride=(1, 1), padding=(1, 1))\n",
      "              (1): BatchNorm2d(128, eps=1e-05, momentum=0.1, affine=True, track_running_stats=True)\n",
      "              (2): ReLU()\n",
      "            )\n",
      "            (1): ConvNormAct(\n",
      "              (0): ConvTranspose2d(128, 64, kernel_size=(3, 3), stride=(1, 1), padding=(1, 1))\n",
      "              (1): BatchNorm2d(64, eps=1e-05, momentum=0.1, affine=True, track_running_stats=True)\n",
      "              (2): Identity()\n",
      "            )\n",
      "          )\n",
      "          (shortcut): ConvNormAct(\n",
      "            (0): ConvTranspose2d(128, 64, kernel_size=(1, 1), stride=(1, 1))\n",
      "            (1): BatchNorm2d(64, eps=1e-05, momentum=0.1, affine=True, track_running_stats=True)\n",
      "            (2): ReLU()\n",
      "          )\n",
      "        )\n",
      "        (1): ReLU()\n",
      "      )\n",
      "    )\n",
      "    (4): ResidualAdd(\n",
      "      (block): Sequential(\n",
      "        (0): ScaleUp(\n",
      "          (conv_t): ConvTranspose2d(64, 64, kernel_size=(1, 1), stride=(2, 2), groups=64, bias=False)\n",
      "        )\n",
      "        (1): ConvNormAct(\n",
      "          (0): ConvTranspose2d(64, 64, kernel_size=(3, 3), stride=(1, 1), padding=(1, 1))\n",
      "          (1): BatchNorm2d(64, eps=1e-05, momentum=0.1, affine=True, track_running_stats=True)\n",
      "          (2): ReLU()\n",
      "        )\n",
      "      )\n",
      "      (shortcut): ConvNormAct(\n",
      "        (0): ConvTranspose2d(64, 64, kernel_size=(1, 1), stride=(2, 2), output_padding=(1, 1))\n",
      "        (1): BatchNorm2d(64, eps=1e-05, momentum=0.1, affine=True, track_running_stats=True)\n",
      "        (2): ReLU()\n",
      "      )\n",
      "    )\n",
      "    (5): Conv2x3x3NormAct(\n",
      "      (0): Sequential(\n",
      "        (0): ResidualAdd(\n",
      "          (block): Sequential(\n",
      "            (0): ConvNormAct(\n",
      "              (0): ConvTranspose2d(64, 64, kernel_size=(3, 3), stride=(1, 1), padding=(1, 1))\n",
      "              (1): BatchNorm2d(64, eps=1e-05, momentum=0.1, affine=True, track_running_stats=True)\n",
      "              (2): ReLU()\n",
      "            )\n",
      "            (1): ConvNormAct(\n",
      "              (0): ConvTranspose2d(64, 32, kernel_size=(3, 3), stride=(1, 1), padding=(1, 1))\n",
      "              (1): BatchNorm2d(32, eps=1e-05, momentum=0.1, affine=True, track_running_stats=True)\n",
      "              (2): Identity()\n",
      "            )\n",
      "          )\n",
      "          (shortcut): ConvNormAct(\n",
      "            (0): ConvTranspose2d(64, 32, kernel_size=(1, 1), stride=(1, 1))\n",
      "            (1): BatchNorm2d(32, eps=1e-05, momentum=0.1, affine=True, track_running_stats=True)\n",
      "            (2): ReLU()\n",
      "          )\n",
      "        )\n",
      "        (1): ReLU()\n",
      "      )\n",
      "    )\n",
      "    (6): ResidualAdd(\n",
      "      (block): Sequential(\n",
      "        (0): ScaleUp(\n",
      "          (conv_t): ConvTranspose2d(32, 32, kernel_size=(1, 1), stride=(2, 2), groups=32, bias=False)\n",
      "        )\n",
      "        (1): ConvNormAct(\n",
      "          (0): ConvTranspose2d(32, 32, kernel_size=(3, 3), stride=(1, 1), padding=(1, 1))\n",
      "          (1): BatchNorm2d(32, eps=1e-05, momentum=0.1, affine=True, track_running_stats=True)\n",
      "          (2): ReLU()\n",
      "        )\n",
      "      )\n",
      "      (shortcut): ConvNormAct(\n",
      "        (0): ConvTranspose2d(32, 32, kernel_size=(1, 1), stride=(2, 2), output_padding=(1, 1))\n",
      "        (1): BatchNorm2d(32, eps=1e-05, momentum=0.1, affine=True, track_running_stats=True)\n",
      "        (2): ReLU()\n",
      "      )\n",
      "    )\n",
      "    (7): Conv2x3x3NormAct(\n",
      "      (0): Sequential(\n",
      "        (0): ResidualAdd(\n",
      "          (block): Sequential(\n",
      "            (0): ConvNormAct(\n",
      "              (0): ConvTranspose2d(32, 32, kernel_size=(3, 3), stride=(1, 1), padding=(1, 1))\n",
      "              (1): BatchNorm2d(32, eps=1e-05, momentum=0.1, affine=True, track_running_stats=True)\n",
      "              (2): ReLU()\n",
      "            )\n",
      "            (1): ConvNormAct(\n",
      "              (0): ConvTranspose2d(32, 16, kernel_size=(3, 3), stride=(1, 1), padding=(1, 1))\n",
      "              (1): BatchNorm2d(16, eps=1e-05, momentum=0.1, affine=True, track_running_stats=True)\n",
      "              (2): Identity()\n",
      "            )\n",
      "          )\n",
      "          (shortcut): ConvNormAct(\n",
      "            (0): ConvTranspose2d(32, 16, kernel_size=(1, 1), stride=(1, 1))\n",
      "            (1): BatchNorm2d(16, eps=1e-05, momentum=0.1, affine=True, track_running_stats=True)\n",
      "            (2): ReLU()\n",
      "          )\n",
      "        )\n",
      "        (1): ReLU()\n",
      "      )\n",
      "    )\n",
      "    (8): LastConv(\n",
      "      (conv_t): ConvTranspose2d(16, 1, kernel_size=(5, 5), stride=(2, 2), padding=(2, 2))\n",
      "    )\n",
      "  )\n",
      ")\n",
      "Number of parameters: 3,504,214\n"
     ]
    }
   ],
   "source": [
    "# load generator\n",
    "generator = HalfDGBaNConv17()\n",
    "# generator = torch.compile(generator)\n",
    "\n",
    "pre_trained_weights = torch.load(\n",
    "    '../save_data/SingleRandomRing/Adam_mse_loss_0/HalfDGBaNConv17_no_activation_function/HalfDGBaNConv17_no_activation_function_4.pt',\n",
    "    map_location=torch.device('cpu')\n",
    ")\n",
    "generator.load_state_dict(pre_trained_weights)\n",
    "\n",
    "print(generator.eval())\n",
    "print(f'Number of parameters: {count_params(generator):,}')"
   ]
  },
  {
   "cell_type": "code",
   "execution_count": 123,
   "metadata": {},
   "outputs": [
    {
     "name": "stdout",
     "output_type": "stream",
     "text": [
      "0.005645019\n",
      "0.033217777\n",
      "0.0061735474\n"
     ]
    },
    {
     "data": {
      "image/png": "[encoded data removed]",
      "text/plain": [
       "<PIL.Image.Image image mode=L size=32x32>"
      ]
     },
     "execution_count": 123,
     "metadata": {},
     "output_type": "execute_result"
    }
   ],
   "source": [
    "mse_loss = []\n",
    "l1_loss = []\n",
    "AbsMeanDelta = []\n",
    "for i in range(1):\n",
    "    y_pred = generator(torch.Tensor(transformed_features[:1]))[0].detach().numpy().squeeze()\n",
    "    mse_loss.append(((y_pred - imgs[0])**2).mean())\n",
    "    l1_loss.append(abs(y_pred - imgs[0]).mean())\n",
    "    AbsMeanDelta.append(abs((y_pred - imgs[0]).mean()))\n",
    " \n",
    "print(np.mean(mse_loss))\n",
    "print(np.mean(l1_loss))\n",
    "print(np.mean(AbsMeanDelta))\n",
    "Image.fromarray(abs(y_pred.reshape((32, 32)) * 255).astype(np.uint8))"
   ]
  },
  {
   "cell_type": "code",
   "execution_count": 124,
   "metadata": {},
   "outputs": [],
   "source": [
    "n_samples = 500\n",
    "\n",
    "# getting the predictions for this feature\n",
    "pred_rings = torch.zeros((n_samples, 1024), dtype=torch.float, device='cpu')\n",
    "X = torch.Tensor(transformed_features[:1])\n",
    "with torch.no_grad():\n",
    "    for j in range(n_samples):\n",
    "        pred_rings[j] += generator(X)[0].squeeze()\n",
    "\n",
    "pred_rings = pred_rings.detach().numpy().reshape((n_samples, 32, 32))\n",
    "\n",
    "pred_ring = pred_rings.mean(axis=0) * 255\n",
    "true_img = data_gen.ring_from_features(*features[0])\n",
    "true_ring = true_img * 255"
   ]
  },
  {
   "cell_type": "code",
   "execution_count": 125,
   "metadata": {},
   "outputs": [],
   "source": [
    "n_samples = data_gen.kernel.shape[0] // 20\n",
    "\n",
    "# getting the predictions for this feature\n",
    "true_prob_samples = torch.zeros((n_samples, 32, 32))\n",
    "for j in range(n_samples):\n",
    "    true_prob_samples[j] += true_img * data_gen.kernel[j].reshape((32, 32))\n",
    "\n",
    "true_prob_samples = true_prob_samples.numpy()"
   ]
  },
  {
   "cell_type": "code",
   "execution_count": 126,
   "metadata": {},
   "outputs": [
    {
     "data": {
      "image/png": "[encoded data removed]",
      "text/plain": [
       "<PIL.Image.Image image mode=L size=32x32>"
      ]
     },
     "execution_count": 126,
     "metadata": {},
     "output_type": "execute_result"
    }
   ],
   "source": [
    "# predicted gaussian ring\n",
    "Image.fromarray(abs(pred_ring).astype(np.uint8))"
   ]
  },
  {
   "cell_type": "code",
   "execution_count": 127,
   "metadata": {},
   "outputs": [
    {
     "data": {
      "image/png": "[encoded data removed]",
      "text/plain": [
       "<PIL.Image.Image image mode=L size=32x32>"
      ]
     },
     "execution_count": 127,
     "metadata": {},
     "output_type": "execute_result"
    }
   ],
   "source": [
    "# true gaussian ring\n",
    "Image.fromarray(true_ring.numpy().astype(np.uint8))"
   ]
  },
  {
   "cell_type": "code",
   "execution_count": 128,
   "metadata": {},
   "outputs": [
    {
     "data": {
      "image/png": "[encoded data removed]",
      "text/plain": [
       "<PIL.Image.Image image mode=L size=32x32>"
      ]
     },
     "execution_count": 128,
     "metadata": {},
     "output_type": "execute_result"
    }
   ],
   "source": [
    "# difference between the rings\n",
    "Image.fromarray(np.abs(true_ring.numpy() - pred_ring).astype(np.uint8))"
   ]
  },
  {
   "cell_type": "code",
   "execution_count": 129,
   "metadata": {},
   "outputs": [
    {
     "data": {
      "text/plain": [
       "0.011136822"
      ]
     },
     "execution_count": 129,
     "metadata": {},
     "output_type": "execute_result"
    }
   ],
   "source": [
    "# MSE error\n",
    "((pred_ring / pred_ring.max() - true_ring.numpy() / true_ring.numpy().max())**2).mean()"
   ]
  },
  {
   "cell_type": "code",
   "execution_count": 147,
   "metadata": {},
   "outputs": [
    {
     "name": "stdout",
     "output_type": "stream",
     "text": [
      "(27, 19)\n"
     ]
    },
    {
     "data": {
      "image/png": "[encoded data removed]",
      "text/plain": [
       "<Figure size 640x480 with 1 Axes>"
      ]
     },
     "metadata": {},
     "output_type": "display_data"
    }
   ],
   "source": [
    "# getting the distribution for one pmt\n",
    "pmt = (np.random.randint(32), np.random.randint(32))\n",
    "while true_ring[pmt] < 0.2 * 255:\n",
    "    pmt = (np.random.randint(32), np.random.randint(32))\n",
    "print(pmt)\n",
    "\n",
    "hist_width = 0.05\n",
    "\n",
    "# predictited distribution\n",
    "pred = pd.Series(pred_rings[:, pmt[0], pmt[1]])\n",
    "hist = pd.Series(1, index=pd.cut(pred, np.arange(-1, 1.005, hist_width))).sort_index().groupby(level=0).sum()\n",
    "pred_noise = hist / (hist.sum() * hist_width)\n",
    "plt.plot(np.arange(-1, 1, hist_width), pred_noise)\n",
    "\n",
    "# true distribution\n",
    "true = pd.Series(true_prob_samples[:, pmt[0], pmt[1]])\n",
    "true_hist = pd.Series(1, index=pd.cut(true, np.arange(-1, 1.005, hist_width))).sort_index().groupby(level=0).sum()\n",
    "true_noise = true_hist / (true_hist.sum() * hist_width)\n",
    "plt.plot(np.arange(-1, 1, hist_width), true_noise)\n",
    "plt.show()"
   ]
  },
  {
   "cell_type": "code",
   "execution_count": null,
   "metadata": {},
   "outputs": [],
   "source": []
  }
 ],
 "metadata": {
  "kernelspec": {
   "display_name": "ImageGeneration",
   "language": "python",
   "name": "python3"
  },
  "language_info": {
   "codemirror_mode": {
    "name": "ipython",
    "version": 3
   },
   "file_extension": ".py",
   "mimetype": "text/x-python",
   "name": "python",
   "nbconvert_exporter": "python",
   "pygments_lexer": "ipython3",
   "version": "3.10.11"
  },
  "orig_nbformat": 4
 },
 "nbformat": 4,
 "nbformat_minor": 2
}
