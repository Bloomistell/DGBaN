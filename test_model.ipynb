{
 "cells": [
  {
   "cell_type": "code",
   "execution_count": 1,
   "metadata": {},
   "outputs": [],
   "source": [
    "%load_ext autoreload\n",
    "%autoreload 2\n",
    "\n",
    "from tqdm import tqdm\n",
    "\n",
    "from PIL import Image\n",
    "\n",
    "import torch\n",
    "from torch import nn\n",
    "import torch.nn.functional as F\n",
    "\n",
    "import pandas as pd\n",
    "import numpy as np\n",
    "import matplotlib.pyplot as plt\n",
    "\n",
    "from datasets import *\n",
    "from models import *\n",
    "from utils import *\n",
    "\n",
    "# torch._dynamo.config.suppress_errors = True"
   ]
  },
  {
   "attachments": {},
   "cell_type": "markdown",
   "metadata": {},
   "source": [
    "Load dataset:"
   ]
  },
  {
   "cell_type": "code",
   "execution_count": 2,
   "metadata": {},
   "outputs": [
    {
     "data": {
      "text/plain": [
       "{'mse_loss': {'mean': 0.003375522093847394, 'std': 0.0009824438020586967},\n",
       " 'l1_loss': {'mean': 0.017874665558338165, 'std': 0.004685965832322836}}"
      ]
     },
     "execution_count": 2,
     "metadata": {},
     "output_type": "execute_result"
    }
   ],
   "source": [
    "data_size = 2_097_152\n",
    "data_gen = single_random_ring(N=32)\n",
    "X, y = data_gen.generate_dataset(data_size=data_size, noise=True, sigma=0.3, features_degree=2, seed=42, device='cpu', test_return=True)\n",
    "data_gen.noise_delta"
   ]
  },
  {
   "cell_type": "code",
   "execution_count": 3,
   "metadata": {},
   "outputs": [
    {
     "name": "stdout",
     "output_type": "stream",
     "text": [
      "[[10.         13.          7.2157087   1.57616     3.647382    0.36553982]\n",
      " [11.          9.          8.785421    0.91303724  1.7065285   0.04923379]\n",
      " [13.         13.          8.269556    0.84110016  3.8971128   0.02174723]\n",
      " ...\n",
      " [10.         11.          7.0380893   1.4298477   0.64752454  0.41258407]\n",
      " [ 9.          9.          8.301227    1.3721694   3.0532765   0.45067504]\n",
      " [ 9.         13.          7.4534225   1.2693497   1.0790293   0.39076206]]\n",
      "[[0.         0.28571429 0.71428571 ... 0.33697903 0.42454017 0.53447782]\n",
      " [0.         0.42857143 0.14285714 ... 0.07376791 0.02675344 0.00969587]\n",
      " [0.         0.71428571 0.71428571 ... 0.38470367 0.0269867  0.00189177]\n",
      " ...\n",
      " [0.         0.28571429 0.42857143 ... 0.01062069 0.08506904 0.68090293]\n",
      " [0.         0.14285714 0.14285714 ... 0.23614168 0.43815976 0.81243255]\n",
      " [0.         0.14285714 0.71428571 ... 0.02949218 0.13426057 0.61078039]]\n"
     ]
    },
    {
     "data": {
      "image/png": "[encoded data removed]",
      "text/plain": [
       "<PIL.Image.Image image mode=L size=32x32>"
      ]
     },
     "execution_count": 3,
     "metadata": {},
     "output_type": "execute_result"
    }
   ],
   "source": [
    "features, transformed_features, imgs = data_gen.random_sample(256)\n",
    "print(features)\n",
    "print(transformed_features)\n",
    "Image.fromarray((imgs[0] * 255 / imgs[0].max()).astype(np.uint8))"
   ]
  },
  {
   "attachments": {},
   "cell_type": "markdown",
   "metadata": {},
   "source": [
    "Test generator:"
   ]
  },
  {
   "cell_type": "code",
   "execution_count": 4,
   "metadata": {},
   "outputs": [
    {
     "name": "stdout",
     "output_type": "stream",
     "text": [
      "DGBaNConv33(\n",
      "  (linear_layers): NLinearNormAct(\n",
      "    (linear_act): ModuleList(\n",
      "      (0): LinearReparameterization()\n",
      "      (1): ReLU()\n",
      "      (2): LinearReparameterization()\n",
      "      (3): ReLU()\n",
      "      (4): LinearReparameterization()\n",
      "      (5): ReLU()\n",
      "      (6): LinearReparameterization()\n",
      "      (7): ReLU()\n",
      "      (8): LinearReparameterization()\n",
      "      (9): ReLU()\n",
      "      (10): LinearReparameterization()\n",
      "      (11): ReLU()\n",
      "    )\n",
      "  )\n",
      "  (conv_layers): BayesSequential(\n",
      "    (bayes_modules): ModuleList(\n",
      "      (0): BottleNeck(\n",
      "        (block): ResidualAdd(\n",
      "          (block): BayesSequential(\n",
      "            (bayes_modules): ModuleList(\n",
      "              (0-1): 2 x ConvNormAct(\n",
      "                (conv): ConvTranspose2dReparameterization()\n",
      "                (norm_act): Sequential(\n",
      "                  (0): BatchNorm2d(128, eps=1e-05, momentum=0.1, affine=True, track_running_stats=True)\n",
      "                  (1): ReLU()\n",
      "                )\n",
      "              )\n",
      "              (2): ConvNormAct(\n",
      "                (conv): ConvTranspose2dReparameterization()\n",
      "                (norm_act): Sequential(\n",
      "                  (0): BatchNorm2d(512, eps=1e-05, momentum=0.1, affine=True, track_running_stats=True)\n",
      "                  (1): Identity()\n",
      "                )\n",
      "              )\n",
      "            )\n",
      "          )\n",
      "        )\n",
      "      )\n",
      "      (1-2): 2 x Conv2x3x3NormAct(\n",
      "        (block): ResidualAdd(\n",
      "          (block): BayesSequential(\n",
      "            (bayes_modules): ModuleList(\n",
      "              (0): ConvNormAct(\n",
      "                (conv): ConvTranspose2dReparameterization()\n",
      "                (norm_act): Sequential(\n",
      "                  (0): BatchNorm2d(512, eps=1e-05, momentum=0.1, affine=True, track_running_stats=True)\n",
      "                  (1): ReLU()\n",
      "                )\n",
      "              )\n",
      "              (1): ConvNormAct(\n",
      "                (conv): ConvTranspose2dReparameterization()\n",
      "                (norm_act): Sequential(\n",
      "                  (0): BatchNorm2d(512, eps=1e-05, momentum=0.1, affine=True, track_running_stats=True)\n",
      "                  (1): Identity()\n",
      "                )\n",
      "              )\n",
      "            )\n",
      "          )\n",
      "        )\n",
      "      )\n",
      "      (3): Conv2x3x3NormAct(\n",
      "        (block): ResidualAdd(\n",
      "          (block): BayesSequential(\n",
      "            (bayes_modules): ModuleList(\n",
      "              (0): ConvNormAct(\n",
      "                (conv): ConvTranspose2dReparameterization()\n",
      "                (norm_act): Sequential(\n",
      "                  (0): BatchNorm2d(512, eps=1e-05, momentum=0.1, affine=True, track_running_stats=True)\n",
      "                  (1): ReLU()\n",
      "                )\n",
      "              )\n",
      "              (1): ConvNormAct(\n",
      "                (conv): ConvTranspose2dReparameterization()\n",
      "                (norm_act): Sequential(\n",
      "                  (0): BatchNorm2d(256, eps=1e-05, momentum=0.1, affine=True, track_running_stats=True)\n",
      "                  (1): Identity()\n",
      "                )\n",
      "              )\n",
      "            )\n",
      "          )\n",
      "          (shortcut): ConvNormAct(\n",
      "            (conv): ConvTranspose2dReparameterization()\n",
      "            (norm_act): Sequential(\n",
      "              (0): BatchNorm2d(256, eps=1e-05, momentum=0.1, affine=True, track_running_stats=True)\n",
      "              (1): ReLU()\n",
      "            )\n",
      "          )\n",
      "        )\n",
      "      )\n",
      "      (4): ResidualAdd(\n",
      "        (block): BayesSequential(\n",
      "          (bayes_modules): ModuleList(\n",
      "            (0): ScaleUp(\n",
      "              (conv_t): ConvTranspose2dReparameterization()\n",
      "            )\n",
      "            (1): ConvNormAct(\n",
      "              (conv): ConvTranspose2dReparameterization()\n",
      "              (norm_act): Sequential(\n",
      "                (0): BatchNorm2d(256, eps=1e-05, momentum=0.1, affine=True, track_running_stats=True)\n",
      "                (1): ReLU()\n",
      "              )\n",
      "            )\n",
      "          )\n",
      "        )\n",
      "        (shortcut): ConvNormAct(\n",
      "          (conv): ConvTranspose2dReparameterization()\n",
      "          (norm_act): Sequential(\n",
      "            (0): BatchNorm2d(256, eps=1e-05, momentum=0.1, affine=True, track_running_stats=True)\n",
      "            (1): ReLU()\n",
      "          )\n",
      "        )\n",
      "      )\n",
      "      (5-6): 2 x Conv2x3x3NormAct(\n",
      "        (block): ResidualAdd(\n",
      "          (block): BayesSequential(\n",
      "            (bayes_modules): ModuleList(\n",
      "              (0): ConvNormAct(\n",
      "                (conv): ConvTranspose2dReparameterization()\n",
      "                (norm_act): Sequential(\n",
      "                  (0): BatchNorm2d(256, eps=1e-05, momentum=0.1, affine=True, track_running_stats=True)\n",
      "                  (1): ReLU()\n",
      "                )\n",
      "              )\n",
      "              (1): ConvNormAct(\n",
      "                (conv): ConvTranspose2dReparameterization()\n",
      "                (norm_act): Sequential(\n",
      "                  (0): BatchNorm2d(256, eps=1e-05, momentum=0.1, affine=True, track_running_stats=True)\n",
      "                  (1): Identity()\n",
      "                )\n",
      "              )\n",
      "            )\n",
      "          )\n",
      "        )\n",
      "      )\n",
      "      (7): Conv2x3x3NormAct(\n",
      "        (block): ResidualAdd(\n",
      "          (block): BayesSequential(\n",
      "            (bayes_modules): ModuleList(\n",
      "              (0): ConvNormAct(\n",
      "                (conv): ConvTranspose2dReparameterization()\n",
      "                (norm_act): Sequential(\n",
      "                  (0): BatchNorm2d(256, eps=1e-05, momentum=0.1, affine=True, track_running_stats=True)\n",
      "                  (1): ReLU()\n",
      "                )\n",
      "              )\n",
      "              (1): ConvNormAct(\n",
      "                (conv): ConvTranspose2dReparameterization()\n",
      "                (norm_act): Sequential(\n",
      "                  (0): BatchNorm2d(128, eps=1e-05, momentum=0.1, affine=True, track_running_stats=True)\n",
      "                  (1): Identity()\n",
      "                )\n",
      "              )\n",
      "            )\n",
      "          )\n",
      "          (shortcut): ConvNormAct(\n",
      "            (conv): ConvTranspose2dReparameterization()\n",
      "            (norm_act): Sequential(\n",
      "              (0): BatchNorm2d(128, eps=1e-05, momentum=0.1, affine=True, track_running_stats=True)\n",
      "              (1): ReLU()\n",
      "            )\n",
      "          )\n",
      "        )\n",
      "      )\n",
      "      (8): ResidualAdd(\n",
      "        (block): BayesSequential(\n",
      "          (bayes_modules): ModuleList(\n",
      "            (0): ScaleUp(\n",
      "              (conv_t): ConvTranspose2dReparameterization()\n",
      "            )\n",
      "            (1): ConvNormAct(\n",
      "              (conv): ConvTranspose2dReparameterization()\n",
      "              (norm_act): Sequential(\n",
      "                (0): BatchNorm2d(128, eps=1e-05, momentum=0.1, affine=True, track_running_stats=True)\n",
      "                (1): ReLU()\n",
      "              )\n",
      "            )\n",
      "          )\n",
      "        )\n",
      "        (shortcut): ConvNormAct(\n",
      "          (conv): ConvTranspose2dReparameterization()\n",
      "          (norm_act): Sequential(\n",
      "            (0): BatchNorm2d(128, eps=1e-05, momentum=0.1, affine=True, track_running_stats=True)\n",
      "            (1): ReLU()\n",
      "          )\n",
      "        )\n",
      "      )\n",
      "      (9-10): 2 x Conv2x3x3NormAct(\n",
      "        (block): ResidualAdd(\n",
      "          (block): BayesSequential(\n",
      "            (bayes_modules): ModuleList(\n",
      "              (0): ConvNormAct(\n",
      "                (conv): ConvTranspose2dReparameterization()\n",
      "                (norm_act): Sequential(\n",
      "                  (0): BatchNorm2d(128, eps=1e-05, momentum=0.1, affine=True, track_running_stats=True)\n",
      "                  (1): ReLU()\n",
      "                )\n",
      "              )\n",
      "              (1): ConvNormAct(\n",
      "                (conv): ConvTranspose2dReparameterization()\n",
      "                (norm_act): Sequential(\n",
      "                  (0): BatchNorm2d(128, eps=1e-05, momentum=0.1, affine=True, track_running_stats=True)\n",
      "                  (1): Identity()\n",
      "                )\n",
      "              )\n",
      "            )\n",
      "          )\n",
      "        )\n",
      "      )\n",
      "      (11): Conv2x3x3NormAct(\n",
      "        (block): ResidualAdd(\n",
      "          (block): BayesSequential(\n",
      "            (bayes_modules): ModuleList(\n",
      "              (0): ConvNormAct(\n",
      "                (conv): ConvTranspose2dReparameterization()\n",
      "                (norm_act): Sequential(\n",
      "                  (0): BatchNorm2d(128, eps=1e-05, momentum=0.1, affine=True, track_running_stats=True)\n",
      "                  (1): ReLU()\n",
      "                )\n",
      "              )\n",
      "              (1): ConvNormAct(\n",
      "                (conv): ConvTranspose2dReparameterization()\n",
      "                (norm_act): Sequential(\n",
      "                  (0): BatchNorm2d(64, eps=1e-05, momentum=0.1, affine=True, track_running_stats=True)\n",
      "                  (1): Identity()\n",
      "                )\n",
      "              )\n",
      "            )\n",
      "          )\n",
      "          (shortcut): ConvNormAct(\n",
      "            (conv): ConvTranspose2dReparameterization()\n",
      "            (norm_act): Sequential(\n",
      "              (0): BatchNorm2d(64, eps=1e-05, momentum=0.1, affine=True, track_running_stats=True)\n",
      "              (1): ReLU()\n",
      "            )\n",
      "          )\n",
      "        )\n",
      "      )\n",
      "      (12): ResidualAdd(\n",
      "        (block): BayesSequential(\n",
      "          (bayes_modules): ModuleList(\n",
      "            (0): ScaleUp(\n",
      "              (conv_t): ConvTranspose2dReparameterization()\n",
      "            )\n",
      "            (1): ConvNormAct(\n",
      "              (conv): ConvTranspose2dReparameterization()\n",
      "              (norm_act): Sequential(\n",
      "                (0): BatchNorm2d(64, eps=1e-05, momentum=0.1, affine=True, track_running_stats=True)\n",
      "                (1): ReLU()\n",
      "              )\n",
      "            )\n",
      "          )\n",
      "        )\n",
      "        (shortcut): ConvNormAct(\n",
      "          (conv): ConvTranspose2dReparameterization()\n",
      "          (norm_act): Sequential(\n",
      "            (0): BatchNorm2d(64, eps=1e-05, momentum=0.1, affine=True, track_running_stats=True)\n",
      "            (1): ReLU()\n",
      "          )\n",
      "        )\n",
      "      )\n",
      "      (13-14): 2 x Conv2x3x3NormAct(\n",
      "        (block): ResidualAdd(\n",
      "          (block): BayesSequential(\n",
      "            (bayes_modules): ModuleList(\n",
      "              (0): ConvNormAct(\n",
      "                (conv): ConvTranspose2dReparameterization()\n",
      "                (norm_act): Sequential(\n",
      "                  (0): BatchNorm2d(64, eps=1e-05, momentum=0.1, affine=True, track_running_stats=True)\n",
      "                  (1): ReLU()\n",
      "                )\n",
      "              )\n",
      "              (1): ConvNormAct(\n",
      "                (conv): ConvTranspose2dReparameterization()\n",
      "                (norm_act): Sequential(\n",
      "                  (0): BatchNorm2d(64, eps=1e-05, momentum=0.1, affine=True, track_running_stats=True)\n",
      "                  (1): Identity()\n",
      "                )\n",
      "              )\n",
      "            )\n",
      "          )\n",
      "        )\n",
      "      )\n",
      "      (15): Conv2x3x3NormAct(\n",
      "        (block): ResidualAdd(\n",
      "          (block): BayesSequential(\n",
      "            (bayes_modules): ModuleList(\n",
      "              (0): ConvNormAct(\n",
      "                (conv): ConvTranspose2dReparameterization()\n",
      "                (norm_act): Sequential(\n",
      "                  (0): BatchNorm2d(64, eps=1e-05, momentum=0.1, affine=True, track_running_stats=True)\n",
      "                  (1): ReLU()\n",
      "                )\n",
      "              )\n",
      "              (1): ConvNormAct(\n",
      "                (conv): ConvTranspose2dReparameterization()\n",
      "                (norm_act): Sequential(\n",
      "                  (0): BatchNorm2d(32, eps=1e-05, momentum=0.1, affine=True, track_running_stats=True)\n",
      "                  (1): Identity()\n",
      "                )\n",
      "              )\n",
      "            )\n",
      "          )\n",
      "          (shortcut): ConvNormAct(\n",
      "            (conv): ConvTranspose2dReparameterization()\n",
      "            (norm_act): Sequential(\n",
      "              (0): BatchNorm2d(32, eps=1e-05, momentum=0.1, affine=True, track_running_stats=True)\n",
      "              (1): ReLU()\n",
      "            )\n",
      "          )\n",
      "        )\n",
      "      )\n",
      "      (16): LastConv(\n",
      "        (conv_t): ConvTranspose2dReparameterization()\n",
      "      )\n",
      "    )\n",
      "  )\n",
      ")\n",
      "Number of parameters: 42,534,525\n"
     ]
    }
   ],
   "source": [
    "# load generator\n",
    "generator = DGBaNConv33()\n",
    "# generator = torch.compile(generator)\n",
    "\n",
    "pre_trained_weights = torch.load(\n",
    "    '../save_data/single_random_ring/Adam_mse_loss_0/DGBaNConv33_no_activation_function/DGBaNConv33_no_activation_function_10.pt',\n",
    "    map_location=torch.device('cpu')\n",
    ")\n",
    "generator.load_state_dict(pre_trained_weights)\n",
    "\n",
    "print(generator.eval())\n",
    "print(f'Number of parameters: {count_params(generator):,}')"
   ]
  },
  {
   "cell_type": "code",
   "execution_count": 5,
   "metadata": {},
   "outputs": [
    {
     "name": "stdout",
     "output_type": "stream",
     "text": [
      "0.008972821\n",
      "0.064884484\n",
      "0.02603478\n"
     ]
    },
    {
     "data": {
      "image/png": "[encoded data removed]",
      "text/plain": [
       "<PIL.Image.Image image mode=L size=32x32>"
      ]
     },
     "execution_count": 5,
     "metadata": {},
     "output_type": "execute_result"
    }
   ],
   "source": [
    "mse_loss = []\n",
    "l1_loss = []\n",
    "AbsMeanDelta = []\n",
    "for i in range(1):\n",
    "    y_pred = generator(torch.Tensor(transformed_features[:1]))[0].detach().numpy().squeeze()\n",
    "    mse_loss.append(((y_pred - imgs[0])**2).mean())\n",
    "    l1_loss.append(abs(y_pred - imgs[0]).mean())\n",
    "    AbsMeanDelta.append(abs((y_pred - imgs[0]).mean()))\n",
    " \n",
    "print(np.mean(mse_loss))\n",
    "print(np.mean(l1_loss))\n",
    "print(np.mean(AbsMeanDelta))\n",
    "Image.fromarray(abs(y_pred * 255).astype(np.uint8))"
   ]
  },
  {
   "cell_type": "code",
   "execution_count": 6,
   "metadata": {},
   "outputs": [],
   "source": [
    "n_samples = 1000\n",
    "\n",
    "# getting the predictions for this feature\n",
    "pred_rings = torch.zeros((n_samples, 32, 32), dtype=torch.float, device='cpu')\n",
    "X = torch.Tensor(transformed_features[:1])\n",
    "with torch.no_grad():\n",
    "    for j in range(n_samples):\n",
    "        pred_rings[j] += generator(X)[0].squeeze()\n",
    "\n",
    "pred_rings = pred_rings.detach().numpy()\n",
    "\n",
    "pred_ring = pred_rings.mean(axis=0) * 255\n",
    "true_img = data_gen.ring_from_features(*features[0])\n",
    "true_ring = true_img * 255"
   ]
  },
  {
   "cell_type": "code",
   "execution_count": 7,
   "metadata": {},
   "outputs": [],
   "source": [
    "n_samples = data_gen.kernel.shape[0] // 20\n",
    "\n",
    "# getting the predictions for this feature\n",
    "true_prob_samples = torch.zeros((n_samples, 32, 32))\n",
    "for j in range(n_samples):\n",
    "    true_prob_samples[j] += true_img * data_gen.kernel[j].reshape((32, 32))\n",
    "\n",
    "true_prob_samples = true_prob_samples.numpy()"
   ]
  },
  {
   "cell_type": "code",
   "execution_count": 8,
   "metadata": {},
   "outputs": [
    {
     "data": {
      "image/png": "[encoded data removed]",
      "text/plain": [
       "<PIL.Image.Image image mode=L size=32x32>"
      ]
     },
     "execution_count": 8,
     "metadata": {},
     "output_type": "execute_result"
    }
   ],
   "source": [
    "# predicted gaussian ring\n",
    "Image.fromarray(abs(pred_ring).astype(np.uint8))"
   ]
  },
  {
   "cell_type": "code",
   "execution_count": 9,
   "metadata": {},
   "outputs": [
    {
     "data": {
      "image/png": "[encoded data removed]",
      "text/plain": [
       "<PIL.Image.Image image mode=L size=32x32>"
      ]
     },
     "execution_count": 9,
     "metadata": {},
     "output_type": "execute_result"
    }
   ],
   "source": [
    "# true gaussian ring\n",
    "Image.fromarray(true_ring.numpy().astype(np.uint8))"
   ]
  },
  {
   "cell_type": "code",
   "execution_count": 10,
   "metadata": {},
   "outputs": [
    {
     "data": {
      "image/png": "[encoded data removed]",
      "text/plain": [
       "<PIL.Image.Image image mode=L size=32x32>"
      ]
     },
     "execution_count": 10,
     "metadata": {},
     "output_type": "execute_result"
    }
   ],
   "source": [
    "# difference between the rings\n",
    "Image.fromarray(np.abs(true_ring.numpy() - pred_ring).astype(np.uint8))"
   ]
  },
  {
   "cell_type": "code",
   "execution_count": 11,
   "metadata": {},
   "outputs": [
    {
     "data": {
      "text/plain": [
       "0.006300538"
      ]
     },
     "execution_count": 11,
     "metadata": {},
     "output_type": "execute_result"
    }
   ],
   "source": [
    "# MSE error\n",
    "((pred_ring / pred_ring.max() - true_ring.numpy() / true_ring.numpy().max())**2).mean()"
   ]
  },
  {
   "cell_type": "code",
   "execution_count": 46,
   "metadata": {},
   "outputs": [
    {
     "name": "stdout",
     "output_type": "stream",
     "text": [
      "(16, 21)\n"
     ]
    },
    {
     "data": {
      "image/png": "[encoded data removed]",
      "text/plain": [
       "<Figure size 640x480 with 1 Axes>"
      ]
     },
     "metadata": {},
     "output_type": "display_data"
    }
   ],
   "source": [
    "# getting the distribution for one pmt\n",
    "pmt = (0, 0)\n",
    "while true_ring[pmt] < 0.4 * 255:\n",
    "    pmt = (np.random.randint(32), np.random.randint(32))\n",
    "print(pmt)\n",
    "\n",
    "hist_width = 0.05\n",
    "\n",
    "# predictited distribution\n",
    "pred = pd.Series(pred_rings[:, pmt[0], pmt[1]])\n",
    "hist = pd.Series(1, index=pd.cut(pred, np.arange(0, 1.005, hist_width))).sort_index().groupby(level=0).sum()\n",
    "pred_noise = hist / (hist.sum() * hist_width)\n",
    "plt.plot(np.arange(0, 1, hist_width), pred_noise)\n",
    "\n",
    "# true distribution\n",
    "true = pd.Series(true_prob_samples[:, pmt[0], pmt[1]])\n",
    "true_hist = pd.Series(1, index=pd.cut(true, np.arange(0, 1.005, hist_width))).sort_index().groupby(level=0).sum()\n",
    "true_noise = true_hist / (true_hist.sum() * hist_width)\n",
    "plt.plot(np.arange(0, 1, hist_width), true_noise)\n",
    "plt.show()"
   ]
  },
  {
   "cell_type": "code",
   "execution_count": null,
   "metadata": {},
   "outputs": [],
   "source": []
  }
 ],
 "metadata": {
  "kernelspec": {
   "display_name": "ImageGeneration",
   "language": "python",
   "name": "python3"
  },
  "language_info": {
   "codemirror_mode": {
    "name": "ipython",
    "version": 3
   },
   "file_extension": ".py",
   "mimetype": "text/x-python",
   "name": "python",
   "nbconvert_exporter": "python",
   "pygments_lexer": "ipython3",
   "version": "3.10.11"
  },
  "orig_nbformat": 4
 },
 "nbformat": 4,
 "nbformat_minor": 2
}
