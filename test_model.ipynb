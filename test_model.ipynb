{
 "cells": [
  {
   "cell_type": "code",
   "execution_count": 1,
   "metadata": {},
   "outputs": [],
   "source": [
    "%load_ext autoreload\n",
    "%autoreload 2\n",
    "\n",
    "from tqdm import tqdm\n",
    "\n",
    "from PIL import Image\n",
    "\n",
    "import torch\n",
    "from torch import nn\n",
    "import torch.nn.functional as F\n",
    "\n",
    "import pandas as pd\n",
    "import numpy as np\n",
    "import matplotlib.pyplot as plt\n",
    "\n",
    "from datasets import *\n",
    "from models import *\n",
    "from training import LogL1Loss\n",
    "\n",
    "# torch._dynamo.config.suppress_errors = True"
   ]
  },
  {
   "attachments": {},
   "cell_type": "markdown",
   "metadata": {},
   "source": [
    "Load dataset:"
   ]
  },
  {
   "cell_type": "code",
   "execution_count": 2,
   "metadata": {},
   "outputs": [],
   "source": [
    "data_size = 640_000\n",
    "data_gen = single_random_ring(N=32)\n",
    "X, y = data_gen.generate_dataset(data_size=data_size, noise=False, seed=42, device='cpu', test_return=True)"
   ]
  },
  {
   "cell_type": "code",
   "execution_count": 3,
   "metadata": {},
   "outputs": [
    {
     "name": "stdout",
     "output_type": "stream",
     "text": [
      "tensor([[0.0667, 0.1333, 0.8788, 0.4051, 0.5975, 0.0808]])\n"
     ]
    },
    {
     "data": {
      "image/png": "[encoded data removed]",
      "text/plain": [
       "<PIL.Image.Image image mode=L size=32x32>"
      ]
     },
     "execution_count": 3,
     "metadata": {},
     "output_type": "execute_result"
    }
   ],
   "source": [
    "i = np.random.choice(data_size)\n",
    "X_ = torch.Tensor(X[i].reshape(1, -1))\n",
    "print(X_)\n",
    "Image.fromarray((y[i] * 255).astype(np.uint8))"
   ]
  },
  {
   "attachments": {},
   "cell_type": "markdown",
   "metadata": {},
   "source": [
    "Test generator:"
   ]
  },
  {
   "cell_type": "code",
   "execution_count": 14,
   "metadata": {},
   "outputs": [
    {
     "data": {
      "text/plain": [
       "9352963.0"
      ]
     },
     "execution_count": 14,
     "metadata": {},
     "output_type": "execute_result"
    }
   ],
   "source": [
    "state_dict = torch.load(\n",
    "    '../save_data/single_random_ring/Adam_mse_loss/DGBaNR_2_base_tanh/DGBaNR_2_base_tanh_13.pt',\n",
    "    map_location=torch.device('cpu')\n",
    ")\n",
    "\n",
    "S = 0\n",
    "for val in state_dict.values():\n",
    "    S += np.prod(val.size())\n",
    "\n",
    "S"
   ]
  },
  {
   "cell_type": "code",
   "execution_count": 8,
   "metadata": {},
   "outputs": [
    {
     "name": "stdout",
     "output_type": "stream",
     "text": [
      "DGBaNR_base(\n",
      "  (linear_layers): Sequential(\n",
      "    (0): Linear(in_features=6, out_features=108, bias=True)\n",
      "    (1): ReLU()\n",
      "    (2): Linear(in_features=108, out_features=972, bias=True)\n",
      "    (3): ReLU()\n",
      "    (4): Linear(in_features=972, out_features=8192, bias=True)\n",
      "    (5): ReLU()\n",
      "  )\n",
      "  (conv_layers): Sequential(\n",
      "    (0): ConvTranspose2d(512, 256, kernel_size=(4, 4), stride=(2, 2), padding=(1, 1))\n",
      "    (1): BatchNorm2d(256, eps=1e-05, momentum=0.1, affine=True, track_running_stats=True)\n",
      "    (2): ReLU()\n",
      "    (3): ConvTranspose2d(256, 128, kernel_size=(4, 4), stride=(2, 2), padding=(1, 1))\n",
      "    (4): BatchNorm2d(128, eps=1e-05, momentum=0.1, affine=True, track_running_stats=True)\n",
      "    (5): ReLU()\n",
      "    (6): ConvTranspose2d(128, 1, kernel_size=(4, 4), stride=(2, 2), padding=(1, 1))\n",
      "  )\n",
      ")\n",
      "Number of parameters: 10702161\n"
     ]
    }
   ],
   "source": [
    "# load generator\n",
    "generator = DGBaNR_base(data_gen.n_features, 32, 'tanh')\n",
    "# generator = torch.compile(generator)\n",
    "\n",
    "pre_trained_weights = torch.load(\n",
    "    '../save_data/single_random_ring/Adam_mse_loss/DGBaNR_base_tanh/DGBaNR_base_tanh_0.pt',\n",
    "    map_location=torch.device('cpu')\n",
    ")\n",
    "generator.load_state_dict(pre_trained_weights)\n",
    "\n",
    "print(generator.eval())\n",
    "print('Number of parameters:', sum(p.numel() for p in generator.parameters()))"
   ]
  },
  {
   "cell_type": "code",
   "execution_count": 10,
   "metadata": {},
   "outputs": [
    {
     "name": "stdout",
     "output_type": "stream",
     "text": [
      "3.09193870518719e-05\n",
      "0.0012046630921142588\n"
     ]
    },
    {
     "data": {
      "image/png": "[encoded data removed]",
      "text/plain": [
       "<PIL.Image.Image image mode=L size=32x32>"
      ]
     },
     "execution_count": 10,
     "metadata": {},
     "output_type": "execute_result"
    }
   ],
   "source": [
    "y_pred = generator(X_.clone())[0].detach().numpy().squeeze()\n",
    "print(((y_pred - y[i])**2).mean())\n",
    "print(LogL1Loss().numpy_loss(y_pred, y[i]))\n",
    "Image.fromarray((abs(y_pred) * 255).astype(np.uint8()))"
   ]
  },
  {
   "cell_type": "code",
   "execution_count": 20,
   "metadata": {},
   "outputs": [],
   "source": [
    "# setting the base feature\n",
    "n_samples = 10\n",
    "\n",
    "# getting the predictions for this feature\n",
    "pred_rings = np.zeros((n_samples, 32, 32))\n",
    "with torch.no_grad():\n",
    "    for j in range(n_samples):\n",
    "        pred_rings[j] += generator(X_)[0].detach().numpy().squeeze()\n",
    "pred_ring = pred_rings.sum(axis=0)\n",
    "\n",
    "# summing the predictions\n",
    "pred_prob = pred_ring * 255 / pred_ring.max()\n",
    "true_prob = data_gen.gaussian_from_features(*data_gen.scaler.inverse_transform(X_)[0].tolist()) * 255"
   ]
  },
  {
   "cell_type": "code",
   "execution_count": 21,
   "metadata": {},
   "outputs": [
    {
     "data": {
      "image/png": "[encoded data removed]",
      "text/plain": [
       "<PIL.Image.Image image mode=L size=32x32>"
      ]
     },
     "execution_count": 21,
     "metadata": {},
     "output_type": "execute_result"
    }
   ],
   "source": [
    "# predicted gaussian ring\n",
    "Image.fromarray(abs(pred_prob).astype(np.uint8))"
   ]
  },
  {
   "cell_type": "code",
   "execution_count": 24,
   "metadata": {},
   "outputs": [
    {
     "data": {
      "image/png": "[encoded data removed]",
      "text/plain": [
       "<PIL.Image.Image image mode=L size=32x32>"
      ]
     },
     "execution_count": 24,
     "metadata": {},
     "output_type": "execute_result"
    }
   ],
   "source": [
    "# true gaussian ring\n",
    "Image.fromarray(true_prob.astype(np.uint8))"
   ]
  },
  {
   "cell_type": "code",
   "execution_count": 25,
   "metadata": {},
   "outputs": [
    {
     "data": {
      "image/png": "[encoded data removed]",
      "text/plain": [
       "<PIL.Image.Image image mode=L size=32x32>"
      ]
     },
     "execution_count": 25,
     "metadata": {},
     "output_type": "execute_result"
    }
   ],
   "source": [
    "# difference between the rings\n",
    "Image.fromarray(np.abs(true_prob - pred_prob).astype(np.uint8))"
   ]
  },
  {
   "cell_type": "code",
   "execution_count": 26,
   "metadata": {},
   "outputs": [
    {
     "data": {
      "text/plain": [
       "0.06588017008165999"
      ]
     },
     "execution_count": 26,
     "metadata": {},
     "output_type": "execute_result"
    }
   ],
   "source": [
    "# MSE error\n",
    "((pred_prob / pred_prob.max() - true_prob / true_prob.max())**2).mean()"
   ]
  },
  {
   "cell_type": "code",
   "execution_count": 52,
   "metadata": {},
   "outputs": [
    {
     "data": {
      "image/png": "[encoded data removed]",
      "text/plain": [
       "<Figure size 640x480 with 1 Axes>"
      ]
     },
     "metadata": {},
     "output_type": "display_data"
    }
   ],
   "source": [
    "# getting the distribution for one pmt\n",
    "pmt = (16, 17)\n",
    "pred = pd.Series(pred_rings[:, pmt[0], pmt[1]])\n",
    "hist = pd.Series(1, index=pd.cut(pred, np.arange(0, 1.01, 0.01))).sort_index().groupby(level=0).sum()\n",
    "pred_noise = hist / (hist.sum() * 0.01)\n",
    "\n",
    "plt.plot(np.arange(0, 1, 0.01), pred_noise)\n",
    "\n",
    "val = np.arange(0, 2, 0.01) * true_prob[pmt] / (2 * 255)\n",
    "true_pmt_distr = np.exp(-(val - true_prob[pmt] / (2 * 255))**2 / 0.3**2)\n",
    "true_pmt_distr /= true_pmt_distr.sum() * 0.01 * true_prob[pmt] / (2 * 255)\n",
    "plt.plot(val, true_pmt_distr)\n",
    "plt.show()"
   ]
  },
  {
   "cell_type": "code",
   "execution_count": null,
   "metadata": {},
   "outputs": [],
   "source": []
  }
 ],
 "metadata": {
  "kernelspec": {
   "display_name": "ImageGeneration",
   "language": "python",
   "name": "python3"
  },
  "language_info": {
   "codemirror_mode": {
    "name": "ipython",
    "version": 3
   },
   "file_extension": ".py",
   "mimetype": "text/x-python",
   "name": "python",
   "nbconvert_exporter": "python",
   "pygments_lexer": "ipython3",
   "version": "3.10.11"
  },
  "orig_nbformat": 4
 },
 "nbformat": 4,
 "nbformat_minor": 2
}
