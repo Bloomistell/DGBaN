{
 "cells": [
  {
   "cell_type": "code",
   "execution_count": 1,
   "metadata": {},
   "outputs": [],
   "source": [
    "%load_ext autoreload\n",
    "%autoreload 2\n",
    "\n",
    "from tqdm import tqdm\n",
    "\n",
    "from PIL import Image\n",
    "\n",
    "import torch\n",
    "\n",
    "import numpy as np\n",
    "import matplotlib.pyplot as plt\n",
    "\n",
    "from datasets import ring_dataset, randomized_ring_dataset, energy_randomized_ring_dataset\n",
    "from models import DGBaNR, big_DGBaNR"
   ]
  },
  {
   "attachments": {},
   "cell_type": "markdown",
   "metadata": {},
   "source": [
    "Load dataset:"
   ]
  },
  {
   "cell_type": "code",
   "execution_count": 2,
   "metadata": {},
   "outputs": [
    {
     "ename": "KeyboardInterrupt",
     "evalue": "",
     "output_type": "error",
     "traceback": [
      "\u001b[0;31m---------------------------------------------------------------------------\u001b[0m",
      "\u001b[0;31mKeyboardInterrupt\u001b[0m                         Traceback (most recent call last)",
      "Cell \u001b[0;32mIn[2], line 2\u001b[0m\n\u001b[1;32m      1\u001b[0m data_gen \u001b[39m=\u001b[39m energy_randomized_ring_dataset(N\u001b[39m=\u001b[39m\u001b[39m32\u001b[39m)\n\u001b[0;32m----> 2\u001b[0m features, imgs \u001b[39m=\u001b[39m data_gen\u001b[39m.\u001b[39;49mgenerate_dataset(data_size\u001b[39m=\u001b[39;49m\u001b[39m640000\u001b[39;49m, seed\u001b[39m=\u001b[39;49m\u001b[39m42\u001b[39;49m, device\u001b[39m=\u001b[39;49m\u001b[39m'\u001b[39;49m\u001b[39mcpu\u001b[39;49m\u001b[39m'\u001b[39;49m, test_return\u001b[39m=\u001b[39;49m\u001b[39mTrue\u001b[39;49;00m)\n",
      "File \u001b[0;32m~/Desktop/Projects/DGBaN_project/DGBaN/datasets/generate_simple_dataset.py:248\u001b[0m, in \u001b[0;36menergy_randomized_ring_dataset.generate_dataset\u001b[0;34m(self, data_size, batch_size, seed, device, scale_img, test_return)\u001b[0m\n\u001b[1;32m    245\u001b[0m \u001b[39melse\u001b[39;00m:\n\u001b[1;32m    246\u001b[0m     np\u001b[39m.\u001b[39mrandom\u001b[39m.\u001b[39mseed(seed)\n\u001b[0;32m--> 248\u001b[0m     gaus_ring, center, mean, sig \u001b[39m=\u001b[39m \u001b[39mself\u001b[39;49m\u001b[39m.\u001b[39;49mgaussian_ring(data_size)\n\u001b[1;32m    250\u001b[0m     features \u001b[39m=\u001b[39m np\u001b[39m.\u001b[39mconcatenate([\n\u001b[1;32m    251\u001b[0m         center[:, \u001b[39m0\u001b[39m]\u001b[39m.\u001b[39mreshape(\u001b[39m-\u001b[39m\u001b[39m1\u001b[39m, \u001b[39m1\u001b[39m),\n\u001b[1;32m    252\u001b[0m         center[:, \u001b[39m1\u001b[39m]\u001b[39m.\u001b[39mreshape(\u001b[39m-\u001b[39m\u001b[39m1\u001b[39m, \u001b[39m1\u001b[39m),\n\u001b[1;32m    253\u001b[0m         mean\u001b[39m.\u001b[39mreshape(\u001b[39m-\u001b[39m\u001b[39m1\u001b[39m, \u001b[39m1\u001b[39m),\n\u001b[1;32m    254\u001b[0m         sig\u001b[39m.\u001b[39mreshape(\u001b[39m-\u001b[39m\u001b[39m1\u001b[39m, \u001b[39m1\u001b[39m)\n\u001b[1;32m    255\u001b[0m     ], axis\u001b[39m=\u001b[39m\u001b[39m1\u001b[39m)\n\u001b[1;32m    257\u001b[0m     np\u001b[39m.\u001b[39msave(features_path, features)\n",
      "File \u001b[0;32m~/Desktop/Projects/DGBaN_project/DGBaN/datasets/generate_simple_dataset.py:294\u001b[0m, in \u001b[0;36menergy_randomized_ring_dataset.gaussian_ring\u001b[0;34m(self, data_size)\u001b[0m\n\u001b[1;32m    291\u001b[0m mean \u001b[39m=\u001b[39m np\u001b[39m.\u001b[39mrandom\u001b[39m.\u001b[39mchoice(\u001b[39mself\u001b[39m\u001b[39m.\u001b[39mmeans, size\u001b[39m=\u001b[39mdata_size)\n\u001b[1;32m    292\u001b[0m sig \u001b[39m=\u001b[39m np\u001b[39m.\u001b[39mrandom\u001b[39m.\u001b[39mchoice(\u001b[39mself\u001b[39m\u001b[39m.\u001b[39msigs, size\u001b[39m=\u001b[39mdata_size)\n\u001b[0;32m--> 294\u001b[0m radius \u001b[39m=\u001b[39m np\u001b[39m.\u001b[39;49mlinalg\u001b[39m.\u001b[39;49mnorm(\u001b[39mself\u001b[39;49m\u001b[39m.\u001b[39;49mimg_coor[np\u001b[39m.\u001b[39;49mnewaxis, :, :] \u001b[39m-\u001b[39;49m center[:, np\u001b[39m.\u001b[39;49mnewaxis, :], axis\u001b[39m=\u001b[39;49m\u001b[39m2\u001b[39;49m)\n\u001b[1;32m    296\u001b[0m \u001b[39mreturn\u001b[39;00m (\n\u001b[1;32m    297\u001b[0m     np\u001b[39m.\u001b[39mexp(\u001b[39m-\u001b[39m(radius \u001b[39m-\u001b[39m mean[:, np\u001b[39m.\u001b[39mnewaxis])\u001b[39m*\u001b[39m\u001b[39m*\u001b[39m\u001b[39m2\u001b[39m \u001b[39m/\u001b[39m sig[:, np\u001b[39m.\u001b[39mnewaxis]\u001b[39m*\u001b[39m\u001b[39m*\u001b[39m\u001b[39m2\u001b[39m),\n\u001b[1;32m    298\u001b[0m     center,\n\u001b[1;32m    299\u001b[0m     mean,\n\u001b[1;32m    300\u001b[0m     sig\n\u001b[1;32m    301\u001b[0m )\n",
      "File \u001b[0;32m<__array_function__ internals>:177\u001b[0m, in \u001b[0;36mnorm\u001b[0;34m(*args, **kwargs)\u001b[0m\n",
      "\u001b[0;31mKeyboardInterrupt\u001b[0m: "
     ]
    }
   ],
   "source": [
    "data_gen = energy_randomized_ring_dataset(N=32)\n",
    "features, imgs = data_gen.generate_dataset(data_size=640000, seed=42, device='cpu', test_return=True)"
   ]
  },
  {
   "cell_type": "code",
   "execution_count": 30,
   "metadata": {},
   "outputs": [
    {
     "data": {
      "image/png": "[encoded data removed]",
      "text/plain": [
       "<PIL.Image.Image image mode=L size=32x32 at 0x7F28C49C0940>"
      ]
     },
     "execution_count": 30,
     "metadata": {},
     "output_type": "execute_result"
    }
   ],
   "source": [
    "gaussian_ring, center, mean, sig = data_gen.gaussian_ring(1)\n",
    "gaussian_ring, center, mean, sig = gaussian_ring[0], center[0], mean[0], sig[0]\n",
    "\n",
    "features = torch.Tensor([[center[0], center[1], mean, sig, gaussian_ring.mean() * 32 * 32]])\n",
    "\n",
    "Image.fromarray((gaussian_ring.reshape((32, 32)) * 255).astype(np.uint8))"
   ]
  },
  {
   "attachments": {},
   "cell_type": "markdown",
   "metadata": {},
   "source": [
    "Load generator:"
   ]
  },
  {
   "cell_type": "code",
   "execution_count": 34,
   "metadata": {},
   "outputs": [
    {
     "data": {
      "text/plain": [
       "big_DGBaNR(\n",
       "  (linear1): LinearReparameterization()\n",
       "  (linear2): LinearReparameterization()\n",
       "  (conv1): ConvTranspose2dReparameterization()\n",
       "  (batch_norm1): BatchNorm2d(256, eps=1e-05, momentum=0.1, affine=True, track_running_stats=True)\n",
       "  (conv2): ConvTranspose2dReparameterization()\n",
       "  (batch_norm2): BatchNorm2d(128, eps=1e-05, momentum=0.1, affine=True, track_running_stats=True)\n",
       "  (conv3): ConvTranspose2dReparameterization()\n",
       ")"
      ]
     },
     "execution_count": 34,
     "metadata": {},
     "output_type": "execute_result"
    }
   ],
   "source": [
    "generator = big_DGBaNR(data_gen.n_features, 32, 'sigmoid')\n",
    "generator.load_state_dict(torch.load('../save_model/big_DGBaNR_sigmoid_energy_random_640000_64_Adam_mse_loss_1.pt', map_location=torch.device('cpu')))\n",
    "generator.eval()"
   ]
  },
  {
   "cell_type": "code",
   "execution_count": 42,
   "metadata": {},
   "outputs": [],
   "source": [
    "# setting the base feature\n",
    "feature = [15, 15, 9.4, 3.6]\n",
    "features = torch.Tensor(data_gen.scaler.transform(np.array([feature for i in range(1000)])))\n",
    "\n",
    "# getting the predictions for this feature\n",
    "with torch.no_grad():\n",
    "    pred_rings = generator(features)[0].numpy().squeeze()\n",
    "pred_ring = pred_rings.sum(axis=0)\n",
    "\n",
    "# summing the predictions\n",
    "pred_prob = pred_ring * 255 / pred_ring.max()\n",
    "true_prob = data_gen.gaussian_from_features(*feature) * 255 / 1.3"
   ]
  },
  {
   "cell_type": "code",
   "execution_count": 45,
   "metadata": {},
   "outputs": [
    {
     "data": {
      "image/png": "[encoded data removed]",
      "text/plain": [
       "<PIL.Image.Image image mode=L size=32x32 at 0x7F28C49C06D8>"
      ]
     },
     "execution_count": 45,
     "metadata": {},
     "output_type": "execute_result"
    }
   ],
   "source": [
    "# predicted gaussian ring\n",
    "Image.fromarray(pred_prob.astype(np.uint8))"
   ]
  },
  {
   "cell_type": "code",
   "execution_count": 46,
   "metadata": {},
   "outputs": [
    {
     "data": {
      "image/png": "[encoded data removed]",
      "text/plain": [
       "<PIL.Image.Image image mode=L size=32x32 at 0x7F28C49C00B8>"
      ]
     },
     "execution_count": 46,
     "metadata": {},
     "output_type": "execute_result"
    }
   ],
   "source": [
    "# true gaussian ring\n",
    "Image.fromarray(true_prob.astype(np.uint8))"
   ]
  },
  {
   "cell_type": "code",
   "execution_count": 47,
   "metadata": {},
   "outputs": [
    {
     "data": {
      "image/png": "[encoded data removed]",
      "text/plain": [
       "<PIL.Image.Image image mode=L size=32x32 at 0x7F28C49C07F0>"
      ]
     },
     "execution_count": 47,
     "metadata": {},
     "output_type": "execute_result"
    }
   ],
   "source": [
    "# difference between the rings\n",
    "Image.fromarray(np.abs(true_prob - pred_prob).astype(np.uint8))"
   ]
  },
  {
   "cell_type": "code",
   "execution_count": 48,
   "metadata": {},
   "outputs": [
    {
     "name": "stdout",
     "output_type": "stream",
     "text": [
      "0.18116398695422897\n"
     ]
    }
   ],
   "source": [
    "# relative error\n",
    "print(np.abs(true_prob - pred_prob).mean() / prob.mean())"
   ]
  },
  {
   "cell_type": "code",
   "execution_count": 5,
   "metadata": {},
   "outputs": [
    {
     "data": {
      "text/plain": [
       "61"
      ]
     },
     "execution_count": 5,
     "metadata": {},
     "output_type": "execute_result"
    }
   ],
   "source": [
    "np.arange(0.7, 1.3, 0.01).size"
   ]
  },
  {
   "cell_type": "code",
   "execution_count": null,
   "metadata": {},
   "outputs": [],
   "source": [
    "# getting the distribution for one pmt\n",
    "pmt = (7, 7)\n",
    "pred_pmt_distr = pred_rings[:, pmt]\n",
    "plt.hist(pred_pmt_distr, bins=60)\n",
    "\n",
    "val = np.arange(-0.3, 0.3, 0.01) + true_prob[pmt]\n",
    "true_pmt_distr = np.exp(-(val - 1)**2 / 0.2**2)\n",
    "plt.plot(true_pmt_distr, val)\n",
    "plt.show()"
   ]
  }
 ],
 "metadata": {
  "kernelspec": {
   "display_name": "ImageGeneration",
   "language": "python",
   "name": "python3"
  },
  "language_info": {
   "codemirror_mode": {
    "name": "ipython",
    "version": 3
   },
   "file_extension": ".py",
   "mimetype": "text/x-python",
   "name": "python",
   "nbconvert_exporter": "python",
   "pygments_lexer": "ipython3",
   "version": "3.10.10"
  },
  "orig_nbformat": 4
 },
 "nbformat": 4,
 "nbformat_minor": 2
}
